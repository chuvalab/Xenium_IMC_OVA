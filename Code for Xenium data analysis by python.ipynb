{
 "cells": [
  {
   "cell_type": "markdown",
   "id": "106e7bc1-f874-48d4-9b5c-4653acb0ca36",
   "metadata": {},
   "source": [
    "# 1.load package"
   ]
  },
  {
   "cell_type": "code",
   "execution_count": null,
   "id": "b19eb34c-9faa-41f0-87a0-c468713be193",
   "metadata": {},
   "outputs": [],
   "source": [
    "import json\n",
    "from collections import namedtuple, Counter\n",
    "\n",
    "import numpy as np\n",
    "import scanpy as sc\n",
    "import pandas as pd\n",
    "import squidpy as sq\n",
    "\n",
    "## Image manipulation and geometry\n",
    "from tifffile import imread\n",
    "from skimage.io import imread as skimread\n",
    "\n",
    "## Plotting imports\n",
    "from matplotlib import pyplot as plt\n",
    "from matplotlib.colors import LinearSegmentedColormap, Normalize, to_hex, Colormap\n",
    "from matplotlib.cm import ScalarMappable\n",
    "from matplotlib.colorbar import ColorbarBase\n",
    "from matplotlib.lines import Line2D\n",
    "from matplotlib import rc_context"
   ]
  },
  {
   "cell_type": "code",
   "execution_count": null,
   "id": "51a09ef4-8251-4043-a9a9-e01092e78731",
   "metadata": {},
   "outputs": [],
   "source": [
    "### Functions for registration of Xenium to Visium data and associated analyis and visualization\n",
    "## Visualization functions\n",
    "from companion_functions import (\n",
    "    hexlist_to_cmap,\n",
    "    polygons_coords_to_patch_collection,\n",
    "    plot_polygons,\n",
    "    hex_corner_offset,\n",
    "    polygon_corners,\n",
    "    celltypes,\n",
    "    celltypes,\n",
    "    hex_codes,\n",
    "    ctype_to_code_map,\n",
    "    ctype_hex_map,\n",
    "    ctype_cmap,\n",
    ")\n",
    "\n",
    "## Analysis functions\n",
    "from companion_functions import (\n",
    "    unique_encode,\n",
    "    get_xenium_to_morphology_transform_from_xenium_morphology_image,\n",
    "    get_xenium_capture_polygon_um,\n",
    "    transform_coordinates,\n",
    "    get_median_spot_to_spot_distance_from_centroids,\n",
    "    generate_space_filling_visium_polygons,\n",
    "    get_visium_capture_polygon,\n",
    "    __OUTSIDE_VISIUM_CAPTURE_AREA_BARCODE__,\n",
    "    bin_xenium_data_to_visium_spots,\n",
    "    generate_anndata_matrix_from_transcript_assignments,\n",
    ")"
   ]
  },
  {
   "cell_type": "code",
   "execution_count": null,
   "id": "503b2d3b-f3f3-483a-a782-3319de2084cc",
   "metadata": {},
   "outputs": [],
   "source": []
  },
  {
   "cell_type": "markdown",
   "id": "ded908a7-2e4b-448e-8ab0-275768de70e9",
   "metadata": {},
   "source": [
    "# 2 load data and QC"
   ]
  },
  {
   "cell_type": "code",
   "execution_count": null,
   "id": "06f046e9-ff84-4555-b712-c591cbefca70",
   "metadata": {},
   "outputs": [],
   "source": [
    "adata = sc.read_10x_h5(\"P:/PI/PI_Chuva_de_Sousa_Lopes/susana/Fu/Project/16_xenium/4st_Analysis of CD45 positive cell/outs/cell_feature_matrix.h5\")\n",
    "df = pd.read_csv(\"P:/PI/PI_Chuva_de_Sousa_Lopes/susana/Fu/Project/16_xenium/4st_Analysis of CD45 positive cell/outs/cells.csv.gz\")\n",
    "\n",
    "df.set_index(adata.obs_names, inplace=True)\n",
    "adata.obs = df.copy()\n",
    "adata.obsm[\"spatial\"] = adata.obs[[\"x_centroid\", \"y_centroid\"]].copy().to_numpy()"
   ]
  },
  {
   "cell_type": "code",
   "execution_count": null,
   "id": "502e997f-1ed1-42fc-bfbd-09f9ff888138",
   "metadata": {},
   "outputs": [],
   "source": [
    "adata = adata[adata.obs[\"y_centroid\"] >12302].copy()"
   ]
  },
  {
   "cell_type": "code",
   "execution_count": null,
   "id": "f5c3d1eb-7e67-45ea-bba0-2ad962dd4151",
   "metadata": {},
   "outputs": [],
   "source": [
    "# alway have MemoryError\n",
    "sc.pp.calculate_qc_metrics(adata, percent_top=(10, 20, 50, 150), inplace=True)"
   ]
  },
  {
   "cell_type": "code",
   "execution_count": null,
   "id": "41ce3e5d-d69f-431e-a678-b8dbe616d0f8",
   "metadata": {},
   "outputs": [],
   "source": [
    "cprobes = (\n",
    "    adata.obs[\"control_probe_counts\"].sum() / adata.obs[\"total_counts\"].sum() * 100\n",
    ")\n",
    "cwords = (\n",
    "    adata.obs[\"control_codeword_counts\"].sum() / adata.obs[\"total_counts\"].sum() * 100\n",
    ")\n",
    "print(f\"Negative DNA probe count % : {cprobes}\")\n",
    "print(f\"Negative decoding count % : {cwords}\")"
   ]
  },
  {
   "cell_type": "code",
   "execution_count": null,
   "id": "9ea90585-9b05-4b6f-b347-6e993a38646c",
   "metadata": {},
   "outputs": [],
   "source": [
    "fig, axs = plt.subplots(1, 4, figsize=(15, 4))\n",
    "\n",
    "axs[0].set_title(\"Total transcripts per cell\")\n",
    "sns.histplot(\n",
    "    adata.obs[\"total_counts\"][adata.obs[\"total_counts\"]<250],\n",
    "    kde=False,\n",
    "    ax=axs[0],\n",
    ")\n",
    "\n",
    "axs[1].set_title(\"Unique transcripts per cell\")\n",
    "sns.histplot(\n",
    "    adata.obs[\"n_genes_by_counts\"],\n",
    "    kde=False,\n",
    "    ax=axs[1],\n",
    ")\n",
    "\n",
    "\n",
    "axs[2].set_title(\"Area of segmented cells\")\n",
    "sns.histplot(\n",
    "    adata.obs[\"cell_area\"],\n",
    "    kde=False,\n",
    "    ax=axs[2],\n",
    ")\n",
    "\n",
    "axs[3].set_title(\"Nucleus ratio\")\n",
    "sns.histplot(\n",
    "    adata.obs[\"nucleus_area\"] / adata.obs[\"cell_area\"],\n",
    "    kde=False,\n",
    "    ax=axs[3],"
   ]
  },
  {
   "cell_type": "code",
   "execution_count": null,
   "id": "12e07a69-6185-4900-a473-bba365e7f452",
   "metadata": {},
   "outputs": [],
   "source": [
    "sc.pp.filter_cells(adata, min_counts=5)\n",
    "sc.pp.filter_genes(adata, min_cells=3)"
   ]
  },
  {
   "cell_type": "code",
   "execution_count": null,
   "id": "c8cb29ca-0be8-4417-90ed-10464147243e",
   "metadata": {},
   "outputs": [],
   "source": []
  },
  {
   "cell_type": "markdown",
   "id": "4ef506ec-f5e2-4e97-89a3-7d91509ecb10",
   "metadata": {},
   "source": [
    "# 3. dowstream analysis of whole sample "
   ]
  },
  {
   "cell_type": "markdown",
   "id": "a28d624e-a0c4-4fe3-ae91-6c0dd8dcc4f9",
   "metadata": {},
   "source": [
    "## 3.1 tsne"
   ]
  },
  {
   "cell_type": "code",
   "execution_count": null,
   "id": "5bde4633-d0d1-4d67-8924-f7657bcb3164",
   "metadata": {},
   "outputs": [],
   "source": [
    "sc.pp.normalize_total(adata, inplace=True)\n",
    "sc.pp.log1p(adata)\n",
    "sc.pp.neighbors(adata)\n",
    "sc.tl.umap(adata)\n",
    "sc.tl.tsne(adata)\n",
    "sc.tl.leiden(adata,resolution = 1.5)"
   ]
  },
  {
   "cell_type": "code",
   "execution_count": null,
   "id": "656548a2-08a0-43ee-8b90-712591f18f9d",
   "metadata": {},
   "outputs": [],
   "source": [
    "custom_palette = {\n",
    "  \"0\" : \"#49E2F6\",   \n",
    "  \"2\" : \"#347928\",\n",
    "  \"3\" : \"#FEEC37\",\n",
    "  \"4\" : \"#ff002a\",\n",
    "  \"5\" :\"#550686\",\n",
    "  \"6\" : \"#E71BE6\",\n",
    "  \"7\" : \"#00879D\",\n",
    "  \"8\" : \"#C1A029\",\n",
    "  \"9\" : \"#A2F852\",\n",
    "  \"10\" : \"#002060\",\n",
    "  \"11\" : \"#565DFD\",\n",
    "  \"12\" : \"#10686f\",\n",
    "  \"13\" : \"#F67280\",   \n",
    "  \"14\" : \"#355C7D\",\n",
    "  \"15\" : \"#99B898\",\n",
    "  \"16\" : \"#FFBB00\",\n",
    "  \"17\" : \"#FF6F61\",\n",
    "  \"18\" : \"#6B5B95\",\n",
    "  \"19\" : \"#88B04B\",\n",
    "  \"20\" : \"#92A8D1\",\n",
    "  \"21\" : \"#955251\",\n",
    "  \"22\" : \"#009B77\",\n",
    "  \"23\" : \"#DD4124\"\n",
    "}\n"
   ]
  },
  {
   "cell_type": "code",
   "execution_count": null,
   "id": "80e8cf4a-5640-4e8b-a7be-77bd8ae289a2",
   "metadata": {},
   "outputs": [],
   "source": [
    "import pandas as pd\n",
    "\n",
    "\n",
    "tsne_df = pd.DataFrame(tsne_coords, columns=['tSNE_1', 'tSNE_2'])\n",
    "tsne_df['leiden'] = leiden_clusters.values"
   ]
  },
  {
   "cell_type": "code",
   "execution_count": null,
   "id": "a9bb6fcc-1e06-4815-b1d9-dfe8adbd69a1",
   "metadata": {},
   "outputs": [],
   "source": [
    "import seaborn as sns\n",
    "import matplotlib.pyplot as plt\n",
    "\n",
    "plt.figure(figsize=(8, 6))\n",
    "sns.scatterplot(data=tsne_df, x='tSNE_1', y='tSNE_2', hue='leiden', palette=custom_palette, s=5, edgecolor=None)\n",
    "plt.title(\"t-SNE Plot with Leiden Clusters\")\n",
    "plt.xlabel(\"t-SNE 1\")\n",
    "plt.ylabel(\"t-SNE 2\")\n",
    "plt.legend(title=\"Leiden Cluster\", bbox_to_anchor=(1.05, 1), loc='upper left')\n",
    "plt.tight_layout()\n",
    "plt.savefig(\"tSNE_adata_1.2_Leiden_Clusters.pdf\", format=\"pdf\")\n",
    "plt.show()"
   ]
  },
  {
   "cell_type": "code",
   "execution_count": null,
   "id": "fd44719e-ca77-4609-a497-1de1964040a5",
   "metadata": {},
   "outputs": [],
   "source": []
  },
  {
   "cell_type": "markdown",
   "id": "d4f13843-91a8-4c96-9ff2-d8e96807cae1",
   "metadata": {},
   "source": [
    "# 3.2 DEG"
   ]
  },
  {
   "cell_type": "code",
   "execution_count": null,
   "id": "1daab3f9-f193-4f7c-8808-4286c9c1a560",
   "metadata": {},
   "outputs": [],
   "source": [
    "adata.layers[\"scaled\"] = sc.pp.scale(adata, copy=True).X"
   ]
  },
  {
   "cell_type": "code",
   "execution_count": null,
   "id": "15d0d98a-3583-4575-b12e-69955264840d",
   "metadata": {},
   "outputs": [],
   "source": [
    "sc.tl.rank_genes_groups(adata, \n",
    "                        groupby=\"leiden\", \n",
    "                        method=\"wilcoxon\", \n",
    "                        pts=True,\n",
    "                        )"
   ]
  },
  {
   "cell_type": "code",
   "execution_count": null,
   "id": "f824353c-72a6-4c11-aede-51aa421ac1c5",
   "metadata": {},
   "outputs": [],
   "source": [
    "rank_genes_df = sc.get.rank_genes_groups_df(adata, group=None)\n",
    "filtered_df = rank_genes_df[(rank_genes_df[\"pct_nz_group\"] > 0.6) & (rank_genes_df[\"pvals_adj\"] < 0.05)]\n",
    "filtered_df.to_excel('figure_revised/9st/rank_genes_df_XCL_whole_cluster_filter.xlsx', index=False)"
   ]
  },
  {
   "cell_type": "code",
   "execution_count": null,
   "id": "27320346-8cb7-4f10-8c17-319b1245320c",
   "metadata": {},
   "outputs": [],
   "source": [
    "top_genes = []\n",
    "groups = adata.obs['leiden'].cat.categories\n",
    "\n",
    "for group in groups:\n",
    "    top_genes.append(\n",
    "        sc.get.rank_genes_groups_df(adata, group).head(5)\n",
    "    )\n",
    "\n",
    "# 将结果合并成一个DataFrame\n",
    "top_genes_df = pd.concat(top_genes)\n",
    "gene_names = top_genes_df['names'].unique()"
   ]
  },
  {
   "cell_type": "code",
   "execution_count": null,
   "id": "669589d9-ec3f-499b-9f96-dda65ed6878b",
   "metadata": {},
   "outputs": [],
   "source": [
    "z_score_data = adata[:, gene_names].to_df(layer=\"scaled\")\n",
    "#z_score_data = adata[:, gene_names].to_df()\n",
    "z_score_data['leiden'] = adata.obs['leiden'].values\n",
    "\n",
    "\n",
    "z_score_data.reset_index(inplace=True)\n",
    "z_score_data = z_score_data.drop(columns=['index'])\n",
    "\n",
    "grouped_mean = z_score_data.groupby(\"leiden\").mean()\n",
    "grouped_mean.to_excel(\"grouped_mean_df_adata_top5_zscore.xlsx\", index=True)"
   ]
  },
  {
   "cell_type": "code",
   "execution_count": null,
   "id": "fa9e2b30-f8c5-4ad0-91b0-3d00327b7363",
   "metadata": {},
   "outputs": [],
   "source": []
  },
  {
   "cell_type": "markdown",
   "id": "590764fc-42cf-429f-9b21-addf489bb105",
   "metadata": {},
   "source": [
    "# 4. downsteam analysis of PTPRC positive immune cell"
   ]
  },
  {
   "cell_type": "code",
   "execution_count": null,
   "id": "590cc74e-4f1c-4dd4-9c8f-d57dc43b3e5c",
   "metadata": {},
   "outputs": [],
   "source": []
  },
  {
   "cell_type": "code",
   "execution_count": null,
   "id": "4bcf2a45-1679-474f-a36b-3abdd716c5df",
   "metadata": {},
   "outputs": [],
   "source": [
    "import pandas as pd\n",
    "import scipy\n",
    "\n",
    "expression_matrix = adata.X\n",
    "if isinstance(expression_matrix, scipy.sparse.spmatrix):\n",
    "    expression_matrix = expression_matrix.todense()\n",
    "    \n",
    "adata.obs['PTPRC_high_1'] = (df_expression_matrix['PTPRC'] >1).astype(int)\n",
    "\n",
    "adata.obs['filter_immune_cd45_1'] = \"2\"\n",
    "\n",
    "adata.obs.loc[\n",
    "    (adata.obs['leiden'].isin([\"5\", \"12\"])) & (adata2.obs['PTPRC_high_1']== 1),\n",
    "    'filter_immune_cd45_1'\n",
    "] = \"1\"\n",
    "\n",
    "immune_2 = adata[adata.obs['filter_immune_cd45_1'] == \"1\"].copy()"
   ]
  },
  {
   "cell_type": "code",
   "execution_count": null,
   "id": "cdd24be4-f471-48f1-913f-44fcbbf4f421",
   "metadata": {},
   "outputs": [],
   "source": [
    "sc.pp.normalize_total(immune_2, inplace=True)\n",
    "sc.pp.log1p(immune_2)\n",
    "sc.pp.neighbors(immune_2)\n",
    "sc.tl.umap(immune_2)\n",
    "sc.tl.tsne(immune_2)\n",
    "sc.tl.leiden(immune_2,resolution = 1)"
   ]
  },
  {
   "cell_type": "code",
   "execution_count": null,
   "id": "9d7fb4ad-a9a6-40c6-b10e-62f9a2f8555a",
   "metadata": {},
   "outputs": [],
   "source": [
    "#set color\n",
    "custom_palette = {\n",
    "    \"0\": \"#E71BE6\",\n",
    "    \"1\": \"#00FFFF\",\n",
    "    \"2\": \"#009203\",\n",
    "    \"3\": \"#FEEC37\",\n",
    "    \"4\": \"#ff002a\",\n",
    "    \"5\": \"#4fa9ff\",\n",
    "    \"6\": \"#C1A029\",\n",
    "    \"7\": \"#0000FF\",\n",
    "    \"8\": \"#FF1493\",\n",
    "    \"9\": \"#E6BEFF\",\n",
    "    \"10\": \"#565DFD\",\n",
    "    \"11\": \"#FF6347\",\n",
    "    \"12\": \"#A2F852\",\n",
    "    \n",
    "}"
   ]
  },
  {
   "cell_type": "code",
   "execution_count": null,
   "id": "aa83e73f-5493-46be-b62a-df5e528c8ddf",
   "metadata": {},
   "outputs": [],
   "source": [
    "# resolution=1\n",
    "with rc_context({'figure.figsize': (5, 5)}):\n",
    "     sc.pl.tsne(immune_2,color=[ \"immune_1\",], size=50,palette=custom_palette,save=\"immune_fillter_res_1.pdf\")"
   ]
  },
  {
   "cell_type": "code",
   "execution_count": null,
   "id": "13be9260-9bde-4c79-997c-d1cebe02479d",
   "metadata": {},
   "outputs": [],
   "source": [
    "import scanpy as sc\n",
    "\n",
    "\n",
    "genes = [\"CD3D\", \"KLRD1\", \"CD79A\", \"CD163\", \"CD1C\", \"KIT\",\"PTPRC\",\"MZB1\",\"IRF8\"]\n",
    "\n",
    "\n",
    "for gene in genes:\n",
    "    with rc_context({'figure.figsize': (5, 5)}): \n",
    "        sc.pl.tsne(immune_2, color=gene, size=50, save=f\"_{gene}.pdf\")"
   ]
  },
  {
   "cell_type": "code",
   "execution_count": null,
   "id": "9e4b805c-fb8a-4584-bf65-14e6ce0d8289",
   "metadata": {},
   "outputs": [],
   "source": []
  },
  {
   "cell_type": "code",
   "execution_count": null,
   "id": "86121803-ce59-4fea-b98f-a5f8cea67f7a",
   "metadata": {},
   "outputs": [],
   "source": [
    "sc.tl.rank_genes_groups(immune2, \n",
    "                        groupby=\"leiden\", \n",
    "                        method=\"wilcoxon\", \n",
    "                        pts=True,\n",
    "                        )"
   ]
  },
  {
   "cell_type": "code",
   "execution_count": null,
   "id": "baa24368-86c2-4c06-af8a-f3925d88daca",
   "metadata": {},
   "outputs": [],
   "source": [
    "rank_genes_df = sc.get.rank_genes_groups_df(immune2, group=None)\n",
    "filtered_df = rank_genes_df[(rank_genes_df[\"pct_nz_group\"] > 0.6) & (rank_genes_df[\"pvals_adj\"] < 0.05)]\n",
    "filtered_df.to_excel('figure_revised/9st/rank_genes_df_XCL_whole_cluster_filter.xlsx', index=False)"
   ]
  },
  {
   "cell_type": "code",
   "execution_count": null,
   "id": "dabd4dae-31e3-426a-a98c-f810cfbd51b0",
   "metadata": {},
   "outputs": [],
   "source": [
    "top_genes = []\n",
    "groups = immune2.obs['leiden'].cat.categories\n",
    "\n",
    "for group in groups:\n",
    "    top_genes.append(\n",
    "        sc.get.rank_genes_groups_df(immune2, group).head(5)\n",
    "    )\n",
    "\n",
    "top_genes_df = pd.concat(top_genes)\n",
    "gene_names = top_genes_df['names'].unique()"
   ]
  },
  {
   "cell_type": "code",
   "execution_count": null,
   "id": "ab55e2e8-56fa-4400-aca9-46cfed601bb3",
   "metadata": {},
   "outputs": [],
   "source": []
  },
  {
   "cell_type": "code",
   "execution_count": null,
   "id": "eaaeae92-3929-4335-80ae-80e8b8c84a66",
   "metadata": {},
   "outputs": [],
   "source": [
    "z_score_data = adata[:, gene_names].to_df(layer=\"scaled\")\n",
    "#z_score_data = adata[:, gene_names].to_df()\n",
    "z_score_data['leiden'] = adata.obs['leiden'].values\n",
    "\n",
    "\n",
    "z_score_data.reset_index(inplace=True)\n",
    "z_score_data = z_score_data.drop(columns=['index'])\n",
    "\n",
    "grouped_mean = z_score_data.groupby(\"leiden\").mean()\n",
    "grouped_mean.to_excel(\"grouped_mean_df_adata_top5_zscore.xlsx\", index=True)"
   ]
  },
  {
   "cell_type": "code",
   "execution_count": null,
   "id": "13be9b00-81b7-4e77-b4eb-14bdaffd5b84",
   "metadata": {},
   "outputs": [],
   "source": []
  },
  {
   "cell_type": "markdown",
   "id": "b1f6e2c8-dde5-4a04-b449-663229702f64",
   "metadata": {},
   "source": [
    "# 5 cell charter"
   ]
  },
  {
   "cell_type": "code",
   "execution_count": null,
   "id": "2e44c627-0b88-47b5-a4db-1f5bd0fbaa8e",
   "metadata": {},
   "outputs": [],
   "source": [
    "import squidpy as sq\n",
    "import cellcharter as cc\n",
    "import scanpy as sc\n",
    "from lightning.pytorch import seed_everything\n",
    "seed_everything(0)"
   ]
  },
  {
   "cell_type": "code",
   "execution_count": null,
   "id": "4ca729d1-e5f0-4ad1-a3d0-fa6a696df9af",
   "metadata": {},
   "outputs": [],
   "source": [
    "adata.obs['condition'] = 'sample'\n",
    "from cellcharter.tl import TRVAE\n",
    "save_path = \"./trained_trvae_model\"\n",
    "model = TRVAE.load(save_path, adata=adata,map_location='cpu')\n",
    "adata.obsm['X_trVAE'] = model.get_latent(adata.X, adata.obs['condition'])"
   ]
  },
  {
   "cell_type": "code",
   "execution_count": null,
   "id": "638dbfd0-c130-4eca-8118-000d079f4acb",
   "metadata": {},
   "outputs": [],
   "source": [
    "adata.obsm['X_trVAE_12_1']=adata.obsm['X_trVAE']"
   ]
  },
  {
   "cell_type": "code",
   "execution_count": null,
   "id": "1b0821ad-8f18-44ba-8ff9-d3b1007ee681",
   "metadata": {},
   "outputs": [],
   "source": [
    "#CellCharter’s spatial clustering\n",
    "sq.gr.spatial_neighbors(adata, coord_type='generic', delaunay=True)\n",
    "cc.gr.remove_long_links(adata)"
   ]
  },
  {
   "cell_type": "code",
   "execution_count": null,
   "id": "48145c53-c4e2-42e4-b212-e985fd95377d",
   "metadata": {},
   "outputs": [],
   "source": [
    "cc.gr.aggregate_neighbors(adata, n_layers=7, use_rep='X_trVAE')"
   ]
  },
  {
   "cell_type": "code",
   "execution_count": null,
   "id": "19995f72-fbe4-463f-822a-92a85a1d306d",
   "metadata": {},
   "outputs": [],
   "source": [
    "gmm = cc.tl.Cluster(\n",
    "    n_clusters=10, \n",
    "    random_state=12345,\n",
    "    # If running on GPU\n",
    "    #trainer_params=dict(accelerator='gpu', devices=1)\n",
    ")\n",
    "gmm.fit(adata, use_rep='X_cellcharter')\n",
    "adata.obs['spatial_cluster'] = gmm.predict(adata, use_rep='X_cellcharter')\n",
    "obs_data = adata.obs\n",
    "selected_data = obs_data[['cell_id', 'spatial_cluster']].rename(columns={'spatial_cluster': 'group'})\n",
    "selected_data.to_csv(\"./cell charter/repeat nomolrize expression model/spatial_lay10_cluster_10.csv\", index=False, sep=\",\")"
   ]
  },
  {
   "cell_type": "code",
   "execution_count": null,
   "id": "0aa6fe12-c364-4d44-be2c-436aac4a7415",
   "metadata": {},
   "outputs": [],
   "source": [
    "enrichment_results = cc.gr.enrichment(\n",
    "    adata=adata_cellcharter,\n",
    "    group_key='spatial_cluster_7_10',\n",
    "    label_key='leiden_1.5_updata',\n",
    "    copy=True\n",
    ")\n",
    "\n",
    "enrichment_df = pd.DataFrame(enrichment_results['enrichment'])\n",
    "enrichment_df.to_csv('enrichment_values_cellchater_7_10.csv', index=True)"
   ]
  },
  {
   "cell_type": "code",
   "execution_count": null,
   "id": "652e11aa-5fd8-45e1-8198-83c093e9a86c",
   "metadata": {},
   "outputs": [],
   "source": []
  },
  {
   "cell_type": "code",
   "execution_count": null,
   "id": "83db513a-e24f-4a4e-be8f-583e8421491c",
   "metadata": {},
   "outputs": [],
   "source": [
    "#for lay7_cluster 10\n",
    "import pandas as pd\n",
    "\n",
    "adata.obs['leiden_modified'] = adata.obs['leiden_modified'].astype(int)\n",
    "\n",
    "\n",
    "adata.obs['spatial_immune#'] = adata.obs['spatial_cluster'].astype(str)\n",
    "\n",
    "\n",
    "conditions = (adata.obs['spatial_cluster'].isin([2, 3, 6, 9])) & (adata.obs['leiden_modified'] > 30)\n",
    "adata.obs.loc[conditions, 'spatial_immune'] = (\n",
    "    adata.obs.loc[conditions, 'spatial_cluster'].astype(str) + \"_\" +\n",
    "    adata.obs.loc[conditions, 'leiden_modified'].astype(str)\n",
    ")\n",
    "\n",
    "\n",
    "check_results = adata.obs.loc[conditions, ['spatial_cluster', 'leiden_modified', 'spatial_immune']]\n"
   ]
  },
  {
   "cell_type": "code",
   "execution_count": null,
   "id": "09c9158e-461a-4c12-942b-146119fe1d12",
   "metadata": {},
   "outputs": [],
   "source": [
    "enrichment_results = cc.gr.enrichment(\n",
    "    adata=adata_cellcharter,\n",
    "    group_key='spatial_cluster_7_10',\n",
    "    label_key='leiden_modified',\n",
    "    copy=True\n",
    ")\n",
    "\n",
    "enrichment_df = pd.DataFrame(enrichment_results['enrichment'])\n",
    "enrichment_df.to_csv('enrichment_values_cellchater_7_10_all_cluster_immune.csv', index=True)"
   ]
  },
  {
   "cell_type": "code",
   "execution_count": null,
   "id": "90d41ecf-900d-4e9a-82dc-b8f982302d45",
   "metadata": {},
   "outputs": [],
   "source": []
  },
  {
   "cell_type": "markdown",
   "id": "50a70438-5a08-428c-b5ee-dc0967f9c3ec",
   "metadata": {},
   "source": [
    "# 6.neiborhood analysis"
   ]
  },
  {
   "cell_type": "markdown",
   "id": "370e0efa-ed18-4b48-b9eb-75828e75a257",
   "metadata": {},
   "source": [
    "## 6.1 foe xenium data"
   ]
  },
  {
   "cell_type": "code",
   "execution_count": null,
   "id": "a5c2ed43-41a2-4c1e-b8b8-5c72bc82d4ec",
   "metadata": {},
   "outputs": [],
   "source": [
    "immune_dict = immune_2.obs['leiden'].to_dict()\n",
    "\n",
    "adata.obs['immune_filter'] = adata.obs.index.map(lambda x: immune_dict.get(x, '30'))"
   ]
  },
  {
   "cell_type": "code",
   "execution_count": null,
   "id": "c63cef98-dba1-4e2f-84a5-f4f12d9958c4",
   "metadata": {},
   "outputs": [],
   "source": [
    "\n",
    "adata.obs[\"cl_immune\"] = np.where(\n",
    "    adata_.obs[\"immune_filter\"] == 30,\n",
    "    adata.obs[\"leiden\"],\n",
    "    adata.obs[\"immune_filter\"]\n",
    ")\n",
    "adata.obs[\"cl_immune\"] = adata.obs[\"cl_immune\"].astype(\"category\")"
   ]
  },
  {
   "cell_type": "code",
   "execution_count": null,
   "id": "cb6428fc-3290-4682-b299-fd451d90fe03",
   "metadata": {},
   "outputs": [],
   "source": [
    "adata.obs['cl_immune'] = adata.obs['cl_immune'].astype('category')\n",
    "sq.gr.spatial_neighbors(adata, coord_type=\"generic\", delaunay=True)\n",
    "sq.gr.centrality_scores(adata, cluster_key=\"cl_immune\")\n",
    "sq.gr.co_occurrence(adata,cluster_key=\"cl_immune\")\n",
    "sq.gr.nhood_enrichment(adata, cluster_key=\"cl_immune\")"
   ]
  },
  {
   "cell_type": "code",
   "execution_count": null,
   "id": "74056a63-1a2c-482f-ac56-bceb41ece1e4",
   "metadata": {},
   "outputs": [],
   "source": [
    "enrichment_data = adata.uns['cl_immune_nhood_enrichment']\n",
    "enrichment_df = pd.DataFrame(enrichment_data['zscore'])\n",
    "enrichment_df \n",
    "\n",
    "enrichment_data = adata.uns['cl_immune_nhood_enrichment']\n",
    "\n",
    "if 'count' in enrichment_data:\n",
    "    enrichment_df = pd.DataFrame(enrichment_data['zscore'])\n",
    "else:\n",
    "    raise KeyError(\"'count' not found in leiden_nhood_enrichment data.\")\n",
    "\n",
    "expected_clusters = adata.obs['cl_immune'].cat.categories  \n",
    "enrichment_df.index = expected_clusters[:enrichment_df.shape[0]]\n",
    "enrichment_df.columns = expected_clusters[:enrichment_df.shape[1]]\n",
    "\n",
    "enrichment_df.to_excel(\"figure_revised/9st/enrichment_results_cl_immune_new.xlsx\", index=True)\n"
   ]
  },
  {
   "cell_type": "code",
   "execution_count": null,
   "id": "276822aa-415f-48ed-aa72-a884b5e75e07",
   "metadata": {},
   "outputs": [],
   "source": []
  },
  {
   "cell_type": "code",
   "execution_count": null,
   "id": "bf1b22a4-5ea3-4300-838b-2f6331337195",
   "metadata": {},
   "outputs": [],
   "source": []
  },
  {
   "cell_type": "code",
   "execution_count": null,
   "id": "056fd5f5-f217-4c88-b84c-7d65b4f01d62",
   "metadata": {},
   "outputs": [],
   "source": [
    "import anndata as ad\n",
    "import squidpy as sq\n",
    "import pandas as pd\n",
    "import os\n",
    "\n",
    "output_dir = \"figure_revised\"\n",
    "os.makedirs(output_dir, exist_ok=True)\n",
    "\n",
    "\n",
    "follicle_types = spe_immune.obs[\"follicle_type\"].unique()\n",
    "follicle_types = [ft for ft in follicle_types if ft != \"30\"]\n",
    "\n",
    "\n",
    "adata_dict = {}\n",
    "nhood_enrichment_list = []\n",
    "\n",
    "for follicle in follicle_types:\n",
    "    print(f\"Processing {follicle}...\")\n",
    "\n",
    "\n",
    "    spe_subset = spe_immune[spe_immune.obs[\"follicle_type\"] == follicle].copy()\n",
    "\n",
    "\n",
    "    sq.gr.spatial_neighbors(spe_subset, coord_type=\"generic\", delaunay=True)\n",
    "\n",
    "\n",
    "    sq.gr.centrality_scores(spe_subset, cluster_key=\"immune_filter\")\n",
    "\n",
    " \n",
    "    sq.gr.co_occurrence(spe_subset, cluster_key=\"immune_filter\")\n",
    "\n",
    "\n",
    "    sq.gr.nhood_enrichment(spe_subset, cluster_key=\"immune_filter\")\n",
    "\n",
    "    enrichment_data = spe_subset.uns['immune_filter_nhood_enrichment']\n",
    "\n",
    "    if 'count' in enrichment_data:\n",
    "        enrichment_df = pd.DataFrame(enrichment_data['count'])\n",
    "    else:\n",
    "        raise KeyError(f\"'count' not found in immune1_nhood_enrichment data for {follicle}.\")\n",
    "\n",
    "\n",
    "    expected_clusters = spe_subset.obs['immune_filter'].cat.categories\n",
    "    enrichment_df.index = expected_clusters[:enrichment_df.shape[0]]\n",
    "    enrichment_df.columns = expected_clusters[:enrichment_df.shape[1]]\n",
    "\n",
    "    \n",
    "    enrichment_df.columns = [f\"{follicle}_{col}\" for col in enrichment_df.columns]\n",
    "\n",
    "    \n",
    "    nhood_enrichment_list.append(enrichment_df)\n",
    "\n",
    "    \n",
    "    adata_dict[follicle] = spe_subset\n",
    "\n",
    "    print(f\"Finished processing {follicle}, results saved.\")\n",
    "\n",
    "print(\"All follicle types processed successfully!\")\n",
    "\n",
    "\n",
    "combined_enrichment = pd.concat(nhood_enrichment_list, axis=1)\n",
    "\n",
    "\n",
    "combined_enrichment.to_excel(os.path.join(output_dir, \"combined_enrichment_matrix.xlsx\"))\n",
    "\n",
    "\n",
    "print(combined_enrichment)\n"
   ]
  },
  {
   "cell_type": "code",
   "execution_count": null,
   "id": "1565ed25-42a3-44ae-9318-cd07ec0172d2",
   "metadata": {},
   "outputs": [],
   "source": []
  },
  {
   "cell_type": "markdown",
   "id": "349e7ac3-2703-483f-8685-70f8c71fd036",
   "metadata": {},
   "source": [
    "## 6.2 for IMC data"
   ]
  },
  {
   "cell_type": "code",
   "execution_count": null,
   "id": "58c4ec57-4a09-464b-9be5-7f6668465d97",
   "metadata": {},
   "outputs": [],
   "source": [
    "adata = sc.read_h5ad(\"P:/PI/PI_Chuva_de_Sousa_Lopes/susana/Fu/Project/16_xenium/4st_Analysis of CD45 positive cell/spe1/adata_spe.h5ad\")"
   ]
  },
  {
   "cell_type": "code",
   "execution_count": null,
   "id": "562b7f68-4f67-4467-8f21-ef6fe3dcf739",
   "metadata": {},
   "outputs": [],
   "source": [
    "meta=pd.read_excel(\"meta_updated.xlsx\")\n",
    "adata.obs['cl_immune'] = meta['cl_immune'].values\n",
    "adata.obs['follicle_type_updata1'] = meta['follicle_type_updata1'].values"
   ]
  },
  {
   "cell_type": "code",
   "execution_count": null,
   "id": "9f27344d-cf3d-4592-a3ad-23c839f377c7",
   "metadata": {},
   "outputs": [],
   "source": [
    "adata.obs['cl_immune'] = adata.obs['cl_immune'].astype('category')\n",
    "sq.gr.spatial_neighbors(adata, coord_type=\"generic\", delaunay=True)\n",
    "sq.gr.centrality_scores(adata, cluster_key=\"cl_immune\")\n",
    "sq.gr.co_occurrence(adata,cluster_key=\"cl_immune\")\n",
    "sq.gr.nhood_enrichment(adata, cluster_key=\"cl_immune\")"
   ]
  },
  {
   "cell_type": "code",
   "execution_count": null,
   "id": "0664e6ba-d821-4e66-a792-bb567ab47c07",
   "metadata": {},
   "outputs": [],
   "source": [
    "enrichment_data = adata.uns['cl_immune_nhood_enrichment']\n",
    "enrichment_df = pd.DataFrame(enrichment_data['zscore'])\n",
    "enrichment_df \n",
    "\n",
    "enrichment_data = adata.uns['cl_immune_nhood_enrichment']\n",
    "\n",
    "if 'count' in enrichment_data:\n",
    "    enrichment_df = pd.DataFrame(enrichment_data['zscore'])\n",
    "else:\n",
    "    raise KeyError(\"'count' not found in leiden_nhood_enrichment data.\")\n",
    "\n",
    "expected_clusters = adata.obs['cl_immune'].cat.categories  \n",
    "enrichment_df.index = expected_clusters[:enrichment_df.shape[0]]\n",
    "enrichment_df.columns = expected_clusters[:enrichment_df.shape[1]]\n",
    "\n",
    "enrichment_df.to_excel(\"figure_revised/9st/enrichment_results_cl_immune_new.xlsx\", index=True)"
   ]
  },
  {
   "cell_type": "code",
   "execution_count": null,
   "id": "236a21e4-d58d-47be-8384-3303e0c3930f",
   "metadata": {},
   "outputs": [],
   "source": []
  },
  {
   "cell_type": "code",
   "execution_count": null,
   "id": "f758c635-602e-4e22-b75b-c88e2b2098c9",
   "metadata": {},
   "outputs": [],
   "source": [
    "adata.obs['immune1'] = adata.obs['immune1'].astype('category')\n",
    "spe_immune = adata[adata.obs[\"immune1\"] != 16].copy()\n",
    "spe_immune.obs[\"follicle_type\"].unique()"
   ]
  },
  {
   "cell_type": "code",
   "execution_count": null,
   "id": "2561ce33-ce00-42c9-a606-4673427159eb",
   "metadata": {},
   "outputs": [],
   "source": [
    "import anndata as ad\n",
    "import squidpy as sq\n",
    "import pandas as pd\n",
    "import os\n",
    "\n",
    "\n",
    "output_dir = \"spe\"\n",
    "os.makedirs(output_dir, exist_ok=True)\n",
    "\n",
    "\n",
    "follicle_types = spe_immune.obs[\"follicle_type\"].unique()\n",
    "follicle_types = [ft for ft in follicle_types if ft != \"1\"]\n",
    "\n",
    "\n",
    "adata_dict = {}\n",
    "nhood_enrichment_list = []\n",
    "\n",
    "\n",
    "for follicle in follicle_types:\n",
    "    print(f\"Processing {follicle}...\")\n",
    "\n",
    "\n",
    "    spe_subset = spe_immune[spe_immune.obs[\"follicle_type\"] == follicle].copy()\n",
    "\n",
    "\n",
    "    sq.gr.spatial_neighbors(spe_subset, coord_type=\"generic\", delaunay=True)\n",
    "\n",
    "\n",
    "    sq.gr.centrality_scores(spe_subset, cluster_key=\"immune1\")\n",
    "\n",
    "\n",
    "    sq.gr.co_occurrence(spe_subset, cluster_key=\"immune1\")\n",
    "\n",
    "\n",
    "    sq.gr.nhood_enrichment(spe_subset, cluster_key=\"immune1\")\n",
    "\n",
    "\n",
    "    enrichment_data = spe_subset.uns['immune1_nhood_enrichment']\n",
    "\n",
    "\n",
    "    if 'count' in enrichment_data:\n",
    "        enrichment_df = pd.DataFrame(enrichment_data['count'])\n",
    "    else:\n",
    "        raise KeyError(f\"'count' not found in immune1_nhood_enrichment data for {follicle}.\")\n",
    "\n",
    "\n",
    "    expected_clusters = spe_subset.obs['immune1'].cat.categories\n",
    "    enrichment_df.index = expected_clusters[:enrichment_df.shape[0]]\n",
    "    enrichment_df.columns = expected_clusters[:enrichment_df.shape[1]]\n",
    "\n",
    "\n",
    "    enrichment_df.columns = [f\"{follicle}_{col}\" for col in enrichment_df.columns]\n",
    "\n",
    "    nhood_enrichment_list.append(enrichment_df)\n",
    "\n",
    " \n",
    "    adata_dict[follicle] = spe_subset\n",
    "\n",
    "    print(f\"Finished processing {follicle}, results saved.\")\n",
    "\n",
    "print(\"All follicle types processed successfully!\")\n",
    "\n",
    "combined_enrichment = pd.concat(nhood_enrichment_list, axis=1)\n",
    "\n",
    "combined_enrichment.to_excel(os.path.join(output_dir, \"combined_enrichment_matrix.xlsx\"))\n"
   ]
  },
  {
   "cell_type": "code",
   "execution_count": null,
   "id": "0f5b1962-b780-4089-b24a-5f97487d62a2",
   "metadata": {},
   "outputs": [],
   "source": []
  },
  {
   "cell_type": "markdown",
   "id": "73051b2f-dc28-49fb-a026-07260c33e633",
   "metadata": {
    "jp-MarkdownHeadingCollapsed": true
   },
   "source": [
    "# 7 mapping"
   ]
  },
  {
   "cell_type": "code",
   "execution_count": null,
   "id": "f128dbc3-5f6d-4457-8701-0fd3df0b5039",
   "metadata": {},
   "outputs": [],
   "source": [
    "#all boundaries\n",
    "xenium_cell_boundaries_df=pd.read_csv('P:/PI/PI_Chuva_de_Sousa_Lopes/susana/Fu/Project/16_xenium/4st_Analysis of CD45 positive cell/outs/cell_boundaries.csv.gz')\n",
    "\n",
    "#boundaries of human ovary sample\n",
    "merged_df = pd.merge(adata.obs, xenium_cell_boundaries_df, on='cell_id', how='inner')\n",
    "xenium_cell_polygons = [\n",
    "poly[['vertex_x', 'vertex_y']].values\n",
    "    for _, poly in  merged_df.groupby('cell_id')\n",
    "]"
   ]
  },
  {
   "cell_type": "markdown",
   "id": "8a2a3073-4d08-42cd-acb4-4b08236f001c",
   "metadata": {},
   "source": [
    "## 7.1 for follicle type"
   ]
  },
  {
   "cell_type": "code",
   "execution_count": null,
   "id": "ee9954c7-ef68-4d70-a110-c48f8db463fa",
   "metadata": {},
   "outputs": [],
   "source": [
    "## The hexcodes for the colors used .\n",
    "## The celltypes are mapped to the colors for plotting convenience.\n",
    "celltypes, hex_codes = np.array(\n",
    "    sorted(\n",
    "        [\n",
    "        [\"30\", \"#333333\"],  \n",
    "        [\"ca\", \"#008000\"],  \n",
    "        [\"ca_late\", \"#FF3030\"], \n",
    "        [\"healthy\", \"#800080\"], \n",
    "        [\"type1\", \"#FFA500\"], \n",
    "        [\"type2\", \"#00FFFF\"],  \n",
    "        [\"type3\", \"#FFFF00\"],  \n",
    "        ],\n",
    "        key=lambda x: x[0],\n",
    "    )\n",
    ").T\n",
    "## used for converting list of celltypes to categorical.\n",
    "ctype_to_code_map = {ctype: i for i, ctype in enumerate(celltypes)}\n",
    "## used for converting list of celltypes to colors.\n",
    "ctype_hex_map = dict(zip(celltypes, hex_codes))\n",
    "## matplotlib colormap\n",
    "ctype_cmap = hexlist_to_cmap(\"celltype_cmap\", hex_codes)"
   ]
  },
  {
   "cell_type": "code",
   "execution_count": null,
   "id": "843463be-25b4-4478-9f93-fbfaee709f94",
   "metadata": {},
   "outputs": [],
   "source": [
    "import matplotlib.pyplot as plt\n",
    "from matplotlib.patches import Polygon\n",
    "from matplotlib.colors import Normalize\n",
    "import numpy as np\n",
    "\n",
    "\n",
    "fig = plt.figure(figsize=(12, 9))\n",
    "ax = plt.gca()\n",
    "\n",
    "fig.patch.set_facecolor('black')\n",
    "ax.set_facecolor('black')\n",
    "\n",
    "\n",
    "\n",
    "\n",
    "plot_polygons(\n",
    "   xenium_cell_polygons,\n",
    "    ax=ax,\n",
    "    array=list(map(ctype_to_code_map.get, adata2.obs['follicletype'])),\n",
    "    edgecolor=\"Black\",  \n",
    "    linewidth=0.01,     \n",
    "    norm=Normalize(vmin=0, vmax=len(celltypes)),\n",
    "    cmap=ctype_cmap,\n",
    ")\n",
    "\n",
    "\n",
    "\n",
    "\n",
    "ax.spines['right'].set_visible(False)\n",
    "ax.spines['top'].set_visible(False)\n",
    "ax.spines['left'].set_visible(False)\n",
    "ax.spines['bottom'].set_visible(False)\n",
    "\n",
    "\n",
    "plt.gca().invert_yaxis()\n",
    "\n",
    "\n",
    "ax.set_xticks([])\n",
    "ax.set_yticks([])\n",
    "\n",
    "\n",
    "plt.savefig('figure_revised/9st/wholesample_ROI_low_updata_color.png', dpi=600, bbox_inches='tight', pad_inches=0.1, facecolor='black')\n",
    "plt.show()"
   ]
  },
  {
   "cell_type": "code",
   "execution_count": null,
   "id": "df7a8422-dbb5-4cd9-8930-dd96d434dd7d",
   "metadata": {},
   "outputs": [],
   "source": []
  },
  {
   "cell_type": "markdown",
   "id": "e71665d3-987e-46f7-a76e-a682f34e4fd1",
   "metadata": {},
   "source": [
    "## 7.2 for xenium cell cluster"
   ]
  },
  {
   "cell_type": "code",
   "execution_count": null,
   "id": "b30819d5-e3a7-4e62-bd29-567f6c2aeea1",
   "metadata": {},
   "outputs": [],
   "source": [
    "## The hexcodes for the colors used .\n",
    "## The celltypes are mapped to the colors for plotting convenience.\n",
    "celltypes, hex_codes = np.array(\n",
    "    sorted(\n",
    "        [\n",
    "            [\"0\", \"#FEEC37\"],  \n",
    "            [\"1\", \"#347928\"], \n",
    "            [\"2\", \"#4B4949\"], \n",
    "            [\"3\", \"#009B77\"], \n",
    "            [\"4\", \"#FF002A\"], \n",
    "            [\"5\", \"#92A8D1\"], \n",
    "            [\"6\", \"#6B5B95\"],  \n",
    "            [\"7\", \"#DD4124\"],  \n",
    "            [\"8\", \"#C1A029\"],  \n",
    "            [\"9\", \"#A2F852\"],  \n",
    "            [\"10\", \"#565DFD\"],\n",
    "            [\"11\", \"#E6BEFF\"],\n",
    "            [\"12\", \"#E71BE6\"], \n",
    "            [\"13\", \"#0000FF\"], \n",
    "            [\"14\", \"#00FFFF\"], \n",
    "            [\"15\", \"#FF1493\"], \n",
    "            [\"16\", \"#FFBB00\"], \n",
    "            [\"17\", \"#FF6F61\"], \n",
    "            [\"18\", \"#6B5B95\"], \n",
    "            [\"19\", \"#88B04B\"], \n",
    "            [\"20\", \"#92A8D1\"], \n",
    "            [\"21\", \"#955251\"],\n",
    "            [\"22\", \"#009B77\"],\n",
    "            [\"23\", \"#DD4124\"], \n",
    "            [\"30\", \"#F5F5F5\"],\n",
    "        ],\n",
    "        key=lambda x: x[0],\n",
    "    )\n",
    ").T\n",
    "## used for converting list of celltypes to categorical.\n",
    "ctype_to_code_map = {ctype: i for i, ctype in enumerate(celltypes)}\n",
    "## used for converting list of celltypes to colors.\n",
    "ctype_hex_map = dict(zip(celltypes, hex_codes))\n",
    "## matplotlib colormap\n",
    "ctype_cmap = hexlist_to_cmap(\"celltype_cmap\", hex_codes)"
   ]
  },
  {
   "cell_type": "code",
   "execution_count": null,
   "id": "6ec746fd-dce6-4d79-9201-3df2f8e74c09",
   "metadata": {},
   "outputs": [],
   "source": [
    "import matplotlib.pyplot as plt\n",
    "from matplotlib.patches import Polygon\n",
    "from matplotlib.colors import Normalize\n",
    "import numpy as np\n",
    "\n",
    "\n",
    "fig = plt.figure(figsize=(12, 9))\n",
    "ax = plt.gca()\n",
    "\n",
    "\n",
    "fig.patch.set_facecolor('black')\n",
    "ax.set_facecolor('black')\n",
    "\n",
    "\n",
    "\n",
    "）\n",
    "plot_polygons(\n",
    "   xenium_cell_polygons,\n",
    "    ax=ax,\n",
    "    array=list(map(ctype_to_code_map.get, adata.obs['leiden_1.5_updata'])),\n",
    "    edgecolor=\"Black\",  \n",
    "    linewidth=0.01,    \n",
    "    norm=Normalize(vmin=0, vmax=len(celltypes)),\n",
    "    cmap=ctype_cmap,\n",
    ")\n",
    "\n",
    "\n",
    "\n",
    "\n",
    "ax.spines['right'].set_visible(False)\n",
    "ax.spines['top'].set_visible(False)\n",
    "ax.spines['left'].set_visible(False)\n",
    "ax.spines['bottom'].set_visible(False)\n",
    "\n",
    "\n",
    "plt.gca().invert_yaxis()\n",
    "\n",
    "\n",
    "ax.set_xticks([])\n",
    "ax.set_yticks([])\n",
    "\n",
    "\n",
    "plt.savefig('figure_revised/9st/wholesample_CL_low.png', dpi=600, bbox_inches='tight', pad_inches=0.1, facecolor='black')\n",
    "plt.show()"
   ]
  },
  {
   "cell_type": "code",
   "execution_count": null,
   "id": "53675053-b400-4947-ba6f-c83564e64c99",
   "metadata": {},
   "outputs": [],
   "source": []
  },
  {
   "cell_type": "code",
   "execution_count": null,
   "id": "71be337d-2bb5-4612-88c2-6ab50c35da5d",
   "metadata": {},
   "outputs": [],
   "source": []
  },
  {
   "cell_type": "markdown",
   "id": "02161b51-97a0-4abb-90bd-c8913ba8acf0",
   "metadata": {},
   "source": [
    "## 7.3 for xenium cell nich"
   ]
  },
  {
   "cell_type": "code",
   "execution_count": null,
   "id": "62b47cdc-adb2-471d-b821-ee700c0d3801",
   "metadata": {},
   "outputs": [],
   "source": [
    "## The hexcodes for the colors used .\n",
    "## The celltypes are mapped to the colors for plotting convenience.\n",
    "celltypes, hex_codes = np.array(\n",
    "    sorted(\n",
    "        [\n",
    "            [\"0\", \"#FF6F61\"], \n",
    "            [\"1\", \"#355C7D\"], \n",
    "            [\"2\", \"#6B5B95\"],  \n",
    "            [\"3\", \"#FEEC37\"],\n",
    "            [\"4\", \"#92A8D1\"],  \n",
    "            [\"5\", \"#A2F852\"],  \n",
    "            [\"6\", \"#00FFFF\"],  \n",
    "            [\"7\", \"#E6BEFF\"],  \n",
    "            [\"8\", \"#FF002A\"], \n",
    "            [\"9\", \"#E71BE6\"], \n",
    "        ],\n",
    "        key=lambda x: x[0],\n",
    "    )\n",
    ").T\n",
    "## used for converting list of celltypes to categorical.\n",
    "ctype_to_code_map = {ctype: i for i, ctype in enumerate(celltypes)}\n",
    "## used for converting list of celltypes to colors.\n",
    "ctype_hex_map = dict(zip(celltypes, hex_codes))\n",
    "## matplotlib colormap\n",
    "ctype_cmap = hexlist_to_cmap(\"celltype_cmap\", hex_codes)"
   ]
  },
  {
   "cell_type": "code",
   "execution_count": null,
   "id": "7e4b6044-2b01-4a2b-a3b4-c67388db8351",
   "metadata": {},
   "outputs": [],
   "source": [
    "import matplotlib.pyplot as plt\n",
    "from matplotlib.patches import Polygon\n",
    "from matplotlib.colors import Normalize\n",
    "import numpy as np\n",
    "\n",
    "fig = plt.figure(figsize=(12, 9))\n",
    "ax = plt.gca()\n",
    "\n",
    "\n",
    "fig.patch.set_facecolor('black')\n",
    "ax.set_facecolor('black')\n",
    "\n",
    "\n",
    "\n",
    "plot_polygons(\n",
    "   xenium_cell_polygons,\n",
    "    ax=ax,\n",
    "    array=list(map(ctype_to_code_map.get, adata_cellcharter.obs['spatial_cluster_7_10'])),\n",
    "    edgecolor=\"Black\", \n",
    "    linewidth=0.01,     \n",
    "    norm=Normalize(vmin=0, vmax=len(celltypes)),\n",
    "    cmap=ctype_cmap,\n",
    ")\n",
    "\n",
    "\n",
    "\n",
    "\n",
    "ax.spines['right'].set_visible(False)\n",
    "ax.spines['top'].set_visible(False)\n",
    "ax.spines['left'].set_visible(False)\n",
    "ax.spines['bottom'].set_visible(False)\n",
    "\n",
    "\n",
    "plt.gca().invert_yaxis()\n",
    "\n",
    "\n",
    "ax.set_xticks([])\n",
    "ax.set_yticks([])\n",
    "\n",
    "plt.savefig('figure_revised/9st/wholesample_CN.png', dpi=900, bbox_inches='tight', pad_inches=0.1, facecolor='black')\n",
    "plt.show()"
   ]
  },
  {
   "cell_type": "code",
   "execution_count": null,
   "id": "195f7e21-e52a-4824-b8c2-8404659b6848",
   "metadata": {},
   "outputs": [],
   "source": []
  },
  {
   "cell_type": "markdown",
   "id": "230d4fe5-fe35-4313-9bcc-6cb63453b2f9",
   "metadata": {},
   "source": [
    "## 7.4 for PTPRC positive cell"
   ]
  },
  {
   "cell_type": "code",
   "execution_count": null,
   "id": "1407069a-d858-48e2-ba2c-fd73f15fe8c2",
   "metadata": {},
   "outputs": [],
   "source": [
    "## The hexcodes for the colors used .\n",
    "## The celltypes are mapped to the colors for plotting convenience.\n",
    "celltypes, hex_codes = np.array(\n",
    "    sorted(\n",
    "        [\n",
    "            [\"0\", \"#FF0000\"],  # Red\n",
    "            [\"1\", \"#FFFF00\"],  # Blue\n",
    "            [\"2\", \"#333333\"],  # Green\"#555555\"\n",
    "            [\"3\", \"#FFFF00\"],  # Yellow\n",
    "            [\"4\", \"#FF00FF\"],  # Magenta\n",
    "            [\"5\", \"#00FFFF\"],  # Cyan\n",
    "            [\"6\", \"#FFA500\"],  # Orange\n",
    "            [\"7\", \"#800080\"],  # Purple\n",
    "            [\"8\", \"#A52A2A\"],  # Brown\n",
    "            [\"9\", \"#000000\"],  # Black\n",
    "            [\"10\", \"#FFC0CB\"], # Pink\n",
    "            [\"11\", \"#FFD700\"], # Gold\n",
    "            [\"12\", \"#008080\"], # Teal\n",
    "            [\"13\", \"#ADFF2F\"], # GreenYellow\n",
    "            [\"14\", \"#FF4500\"], # OrangeRed\n",
    "            [\"15\", \"#2E8B57\"], # SeaGreen\n",
    "            [\"16\", \"#D2691E\"], # Chocolate\n",
    "            [\"17\", \"#8B4513\"], # SaddleBrown\n",
    "            [\"18\", \"#DC143C\"], # Crimson\n",
    "            [\"19\", \"#4682B4\"], # SteelBlue\n",
    "            [\"20\", \"#006400\"], # DarkGreen\n",
    "            [\"21\", \"#8A2BE2\"], # BlueViolet\n",
    "            [\"22\", \"#FF7F50\"], # Coral\n",
    "            [\"30\", \"#F5F5F5\"],\n",
    "        ],\n",
    "        key=lambda x: x[0],\n",
    "    )\n",
    ").T\n",
    "## used for converting list of celltypes to categorical.\n",
    "ctype_to_code_map = {ctype: i for i, ctype in enumerate(celltypes)}\n",
    "## used for converting list of celltypes to colors.\n",
    "ctype_hex_map = dict(zip(celltypes, hex_codes))\n",
    "## matplotlib colormap\n",
    "ctype_cmap = hexlist_to_cmap(\"celltype_cmap\", hex_codes)"
   ]
  },
  {
   "cell_type": "code",
   "execution_count": null,
   "id": "0a36fdec-ee54-48b2-b08c-ef0cfa8a46da",
   "metadata": {},
   "outputs": [],
   "source": [
    "import matplotlib.pyplot as plt\n",
    "from matplotlib.patches import Polygon\n",
    "from matplotlib.colors import Normalize\n",
    "import numpy as np\n",
    "\n",
    "\n",
    "fig = plt.figure(figsize=(12, 9))\n",
    "ax = plt.gca()\n",
    "\n",
    "\n",
    "fig.patch.set_facecolor('black')\n",
    "ax.set_facecolor('black')\n",
    "\n",
    "\n",
    "\n",
    "plot_polygons(\n",
    "   xenium_cell_polygons,\n",
    "    ax=ax,\n",
    "    array=list(map(ctype_to_code_map.get, adata.obs['filter_immune'])),\n",
    "    edgecolor=None,  \n",
    "    linewidth=0,    \n",
    "    norm=Normalize(vmin=0, vmax=len(celltypes)),\n",
    "    cmap=ctype_cmap,\n",
    ")\n",
    "\n",
    "for idx, polygon in enumerate(xenium_cell_polygons):\n",
    "    leiden_value = adata.obs.iloc[idx]['filter_immune']\n",
    "    if leiden_value in ['1']:\n",
    "   \n",
    "        centroid = np.mean(polygon, axis=0)  \n",
    "        scaled_polygon = 2 * (polygon - centroid) + centroid \n",
    "        \n",
    "  \n",
    "        color = \"#FFFF00\" if leiden_value == '1' else 'green' \n",
    "\n",
    "        poly_patch = Polygon(scaled_polygon, closed=True, facecolor=color, edgecolor=None, linewidth=0)\n",
    "        ax.add_patch(poly_patch)\n",
    "\n",
    "\n",
    "ax.spines['right'].set_visible(False)\n",
    "ax.spines['top'].set_visible(False)\n",
    "ax.spines['left'].set_visible(False)\n",
    "ax.spines['bottom'].set_visible(False)\n",
    "\n",
    "\n",
    "plt.gca().invert_yaxis()\n",
    "\n",
    "\n",
    "ax.set_xticks([])\n",
    "ax.set_yticks([])\n",
    "\n",
    "plt.savefig('figure_revised/9st/wholesample_ptprc_filter_low.png', dpi=600, bbox_inches='tight', pad_inches=0.1, facecolor='black')\n",
    "plt.show()"
   ]
  },
  {
   "cell_type": "code",
   "execution_count": null,
   "id": "c27313bf-5df9-4b04-80c0-2dbbea6aef79",
   "metadata": {},
   "outputs": [],
   "source": [
    "## The hexcodes for the colors used .\n",
    "## The celltypes are mapped to the colors for plotting convenience.\n",
    "celltypes, hex_codes = np.array(\n",
    "    sorted(\n",
    "      [\n",
    "    [\"0\", \"#E71BE6\"],  \n",
    "    [\"1\", \"#00FFFF\"],   \n",
    "    [\"2\", \"#009203\"],   \n",
    "    [\"3\", \"#FEEC37\"],  \n",
    "    [\"4\", \"#ff002a\"],   \n",
    "    [\"5\", \"#4fa9ff\"],   \n",
    "    [\"6\", \"#C1A029\"], \n",
    "    [\"7\", \"#0000FF\"],  \n",
    "    [\"8\", \"#FF1493\"],   \n",
    "    [\"9\", \"#E6BEFF\"],  \n",
    "    [\"10\", \"#565DFD\"], \n",
    "    [\"11\", \"#FF6347\"], \n",
    "    [\"12\", \"#A2F852\"],  \n",
    "   ],\n",
    "        key=lambda x: x[0],\n",
    "    )\n",
    ").T\n",
    "## used for converting list of celltypes to categorical.\n",
    "ctype_to_code_map = {ctype: i for i, ctype in enumerate(celltypes)}\n",
    "## used for converting list of celltypes to colors.\n",
    "ctype_hex_map = dict(zip(celltypes, hex_codes))\n",
    "## matplotlib colormap\n",
    "ctype_cmap = hexlist_to_cmap(\"celltype_cmap\", hex_codes)"
   ]
  },
  {
   "cell_type": "code",
   "execution_count": null,
   "id": "ebaa7999-1c89-482b-9a8c-ee78ccb911ec",
   "metadata": {},
   "outputs": [],
   "source": [
    "import matplotlib.pyplot as plt\n",
    "from matplotlib.patches import Polygon\n",
    "from matplotlib.colors import Normalize\n",
    "import numpy as np\n",
    "\n",
    "\n",
    "fig = plt.figure(figsize=(12, 9))\n",
    "ax = plt.gca()\n",
    "\n",
    "\n",
    "fig.patch.set_facecolor('black')\n",
    "ax.set_facecolor('black')\n",
    "\n",
    "\n",
    "\n",
    "\n",
    "plot_polygons(\n",
    "   xenium_cell_polygons,\n",
    "    ax=ax,\n",
    "    array=list(map(ctype_to_code_map.get,adata.obs[\"immune_filter\"])),\n",
    "    edgecolor=\"Black\", \n",
    "    linewidth=0.01,    \n",
    "    norm=Normalize(vmin=0, vmax=len(celltypes)),\n",
    "    cmap=ctype_cmap,\n",
    ")\n",
    "\n",
    "for idx, polygon in enumerate(xenium_cell_polygons):\n",
    "    leiden_value = adata.obs.iloc[idx][\"immune_filter\"]\n",
    "    if leiden_value != '30':\n",
    "    \n",
    "        centroid = np.mean(polygon, axis=0) \n",
    "        scaled_polygon = 3 * (polygon - centroid) + centroid  \n",
    "        \n",
    "        \n",
    "        color = ctype_cmap(ctype_to_code_map[leiden_value])\n",
    "\n",
    "       \n",
    "        poly_patch = Polygon(scaled_polygon, closed=True, facecolor=color, edgecolor=None, linewidth=0)\n",
    "        ax.add_patch(poly_patch)\n",
    "\n",
    "\n",
    "ax.spines['right'].set_visible(False)\n",
    "ax.spines['top'].set_visible(False)\n",
    "ax.spines['left'].set_visible(False)\n",
    "ax.spines['bottom'].set_visible(False)\n",
    "\n",
    "\n",
    "plt.gca().invert_yaxis()\n",
    "\n",
    "\n",
    "ax.set_xticks([])\n",
    "ax.set_yticks([])\n",
    "\n",
    "\n",
    "plt.savefig('figure_revised/9st/whole_sample_immune_x3_1500dpi.png', dpi=1500, bbox_inches='tight', pad_inches=0.1, facecolor='black')\n",
    "plt.show()"
   ]
  },
  {
   "cell_type": "code",
   "execution_count": null,
   "id": "17a6527a-61a0-43e6-b358-8d97bf603d86",
   "metadata": {},
   "outputs": [],
   "source": []
  },
  {
   "cell_type": "code",
   "execution_count": null,
   "id": "c17aeca2-04b9-4115-b510-431392d096ab",
   "metadata": {},
   "outputs": [],
   "source": []
  },
  {
   "cell_type": "code",
   "execution_count": null,
   "id": "51c80a3d-50e9-4418-a1a3-1d10ac5d2b13",
   "metadata": {},
   "outputs": [],
   "source": []
  },
  {
   "cell_type": "code",
   "execution_count": null,
   "id": "8c00c770-560f-41e4-8b71-f895ed0a9af0",
   "metadata": {},
   "outputs": [],
   "source": []
  },
  {
   "cell_type": "code",
   "execution_count": null,
   "id": "824e4927-48ba-48e9-82f4-b2512e15ce6e",
   "metadata": {},
   "outputs": [],
   "source": []
  },
  {
   "cell_type": "code",
   "execution_count": null,
   "id": "5184c7d3-5180-4dac-a9e2-8e16ca3686e8",
   "metadata": {},
   "outputs": [],
   "source": []
  },
  {
   "cell_type": "code",
   "execution_count": null,
   "id": "68e139de-8327-4414-8a01-797a1c9b10d9",
   "metadata": {},
   "outputs": [],
   "source": []
  },
  {
   "cell_type": "code",
   "execution_count": null,
   "id": "dedf6c59-0d29-4d1b-a0aa-b787ba998e00",
   "metadata": {},
   "outputs": [],
   "source": []
  },
  {
   "cell_type": "code",
   "execution_count": null,
   "id": "1af346d2-dc3d-4a45-a91f-1114dad6f2c9",
   "metadata": {},
   "outputs": [],
   "source": []
  }
 ],
 "metadata": {
  "kernelspec": {
   "display_name": "Python 3 (ipykernel)",
   "language": "python",
   "name": "python3"
  },
  "language_info": {
   "codemirror_mode": {
    "name": "ipython",
    "version": 3
   },
   "file_extension": ".py",
   "mimetype": "text/x-python",
   "name": "python",
   "nbconvert_exporter": "python",
   "pygments_lexer": "ipython3",
   "version": "3.10.13"
  }
 },
 "nbformat": 4,
 "nbformat_minor": 5
}
