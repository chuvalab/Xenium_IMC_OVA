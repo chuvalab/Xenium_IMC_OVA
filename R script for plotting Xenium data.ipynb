{
 "cells": [
  {
   "cell_type": "markdown",
   "id": "ee4ec6d5-f322-4811-bbd1-a696c05ac89c",
   "metadata": {},
   "source": [
    "# 1.load package"
   ]
  },
  {
   "cell_type": "code",
   "execution_count": null,
   "id": "1792b3b1-334e-41e6-9b61-837c721aa50c",
   "metadata": {},
   "outputs": [],
   "source": [
    "# read in library\n",
    "library(imcRtools)\n",
    "library(cytomapper)\n",
    "library(mclust)\n",
    "library(scuttle)\n",
    "library(tidyverse)\n",
    "library(ggrepel)\n",
    "library(EBImage)\n",
    "library(dittoSeq)\n",
    "library(viridis)\n",
    "library(Rphenograph)\n",
    "library(igraph)\n",
    "library(dittoSeq)\n",
    "library(viridis)\n",
    "library(scater)\n",
    "library(tableone)\n",
    "library(gridExtra)\n",
    "library(ComplexHeatmap)\n",
    "library(SingleCellExperiment)\n",
    "library(circlize) \n",
    "library(readxl)\n",
    " "
   ]
  },
  {
   "cell_type": "markdown",
   "id": "e5a84123-4016-4b22-b484-2fd7c14211c0",
   "metadata": {},
   "source": [
    "# 2.heatmap of Xenium data"
   ]
  },
  {
   "cell_type": "markdown",
   "id": "821cda59-105c-4a9b-a3d1-5098a0b9ca49",
   "metadata": {},
   "source": [
    "## 2.1 for whole sample"
   ]
  },
  {
   "cell_type": "code",
   "execution_count": null,
   "id": "06053610-e6e3-4242-aca9-aa8105c00159",
   "metadata": {},
   "outputs": [],
   "source": [
    "library(readxl)\n",
    "xenium_data <- read_excel(\"grouped_mean_df_adata_top5_zscore_1.xlsx\")"
   ]
  },
  {
   "cell_type": "code",
   "execution_count": null,
   "id": "aed3ad76-cab9-484a-91e4-afb8da1597ab",
   "metadata": {},
   "outputs": [],
   "source": [
    "xenium_data_transposed <- t(xenium_data)\n",
    "colnames(xenium_data_transposed) <- xenium_data$leiden\n",
    "xenium_data_transposed <- xenium_data_transposed[-1, ]\n",
    "\n",
    "row_names <- rownames(xenium_data_transposed)\n",
    "xenium_data_transposed <- apply(xenium_data_transposed, 2, as.numeric)\n",
    "xenium_data_transposed <- as.data.frame(xenium_data_transposed)\n",
    "rownames(xenium_data_transposed) <- row_names\n",
    "\n"
   ]
  },
  {
   "cell_type": "code",
   "execution_count": null,
   "id": "1edeb4ad-0be9-44ad-af2f-9613cad475f3",
   "metadata": {},
   "outputs": [],
   "source": [
    "color_dict <- c(\n",
    "\"0\" = \"#49E2F6\",   \n",
    "  \"1\" = \"#FF1493\",\n",
    "  \"2\" = \"#347928\",\n",
    "  \"3\" = \"#FEEC37\",\n",
    "  \"4\" = \"#ff002a\",\n",
    "  \"5\" = \"#550686\",\n",
    "  \"6\" = \"#E71BE6\",\n",
    "  \"7\" = \"#00879D\",\n",
    "  \"8\" = \"#C1A029\",\n",
    "  \"9\" = \"#A2F852\",\n",
    "  \"10\" = \"#002060\",\n",
    "  \"11\" = \"#565DFD\",\n",
    "  \"12\" = \"#10686f\",\n",
    "  \"13\" = \"#0000FF\",   \n",
    "  \"14\" = \"#355C7D\",\n",
    "  \"15\" = \"#99B898\",\n",
    "  \"16\" = \"#FFBB00\",\n",
    "  \"17\" = \"#FF6F61\",\n",
    "  \"18\" = \"#6B5B95\",\n",
    "  \"19\" = \"#88B04B\",\n",
    "  \"20\" = \"#92A8D1\",\n",
    "  \"21\" = \"#955251\",\n",
    "  \"22\" = \"#009B77\",\n",
    "  \"23\" = \"#DD4124\"\n",
    ")\n",
    "\n",
    "group <- colnames(xenium_data_transposed)\n",
    "\n",
    "\n",
    "col_annot <- HeatmapAnnotation(\n",
    "  Group = group,\n",
    "  col = list(Group = color_dict)\n",
    ")"
   ]
  },
  {
   "cell_type": "code",
   "execution_count": null,
   "id": "4c9207d7-7f0c-4248-b201-2fc617e32928",
   "metadata": {},
   "outputs": [],
   "source": [
    "pdf(\"heatmap_adata_1.5_top5_zscore_updata.pdf\", width = 6, height = 12)\n",
    "options(repr.plot.width=8, repr.plot.height=12)\n",
    "col_fun <- colorRamp2(c(-2, 0, 2), c(\"blue\", \"white\", \"red\"))\n",
    "Heatmap(xenium_data_transposed,\n",
    "        col = col_fun,\n",
    "        top_annotation = col_annot,\n",
    "        show_row_names = TRUE,\n",
    "        show_column_names = TRUE,\n",
    "        clustering_distance_rows = \"euclidean\",\n",
    "        clustering_distance_columns = \"pearson\",  #manhattan   euclidean\n",
    "        #clustering_method_rows = FALSE,\n",
    "        clustering_method_columns = \"complete\",\n",
    "        row_title = \"Genes\",\n",
    "        column_title = \"Sample Groups\")\n",
    "dev.off()"
   ]
  },
  {
   "cell_type": "code",
   "execution_count": null,
   "id": "179ae4ec-5d56-4f10-8034-0dba25251cf1",
   "metadata": {},
   "outputs": [],
   "source": []
  },
  {
   "cell_type": "markdown",
   "id": "851c86a1-3fbb-4c85-ab79-7e583fc94d5b",
   "metadata": {},
   "source": [
    "## 2.2 for cellcharter results"
   ]
  },
  {
   "cell_type": "code",
   "execution_count": null,
   "id": "a80ff830-6145-4cf1-ae71-88cdd648cfb7",
   "metadata": {},
   "outputs": [],
   "source": [
    "cellchater <- read_csv(\"enrichment_values_cellchater_7_10_all_cluster_immune.csv\")"
   ]
  },
  {
   "cell_type": "code",
   "execution_count": null,
   "id": "4cf9768e-0d9f-46fc-8642-ccf920b99fea",
   "metadata": {},
   "outputs": [],
   "source": [
    "cellchater <- cellchater[, !(colnames(cellchater) %in% as.character(0:17))]\n",
    "\n",
    "\n",
    "cellchater <- as.data.frame(cellchater)\n",
    "rownames(cellchater) <- cellchater[[1]]\n",
    "cellchater <- cellchater[, -1]\n",
    "cellchater=t(cellchater)"
   ]
  },
  {
   "cell_type": "code",
   "execution_count": null,
   "id": "cecb5308-3c4e-4259-96d3-3b9c01742a33",
   "metadata": {},
   "outputs": [],
   "source": [
    "new_rownames <- as.character(0:12)\n",
    "old_rownames <- as.character(40:52)\n",
    "\n",
    "rownames(cellchater) <- new_rownames[match(rownames(cellchater), old_rownames)]"
   ]
  },
  {
   "cell_type": "code",
   "execution_count": null,
   "id": "45506ada-1cf8-4f09-833a-223ffdd89dae",
   "metadata": {},
   "outputs": [],
   "source": [
    "color_dict <- c(\n",
    " \"0\" = \"#FF6F61\",\n",
    "  \"1\" = \"#355C7D\",\n",
    "  \"2\" = \"#6B5B95\",\n",
    "  \"3\" = \"#FEEC37\",\n",
    "  \"4\" = \"#92A8D1\",\n",
    "  \"5\" = \"#A2F852\",\n",
    "  \"6\" = \"#00FFFF\",\n",
    "  \"7\" = \"#E6BEFF\",\n",
    "  \"8\" = \"#ff002a\",\n",
    "  \"9\" = \"#E71BE6\"\n",
    ")\n",
    "\n",
    "group <- colnames(cellchater)\n",
    "\n",
    "\n",
    "col_annot <- HeatmapAnnotation(\n",
    "  Group = group,\n",
    "  col = list(Group = color_dict)\n",
    ")"
   ]
  },
  {
   "cell_type": "code",
   "execution_count": null,
   "id": "d4fd67af-28c6-4227-ac4c-ccf4515d6997",
   "metadata": {},
   "outputs": [],
   "source": [
    "pdf(\"figure_revised_9st/heatmap_cellcharter_7_10_immune_filter_1.pdf\", width = 8, height = 12)\n",
    "options(repr.plot.width=8, repr.plot.height=10)\n",
    "col_fun <- colorRamp2(c(-2, 0, 2), c(\"blue\", \"white\", \"red\"))\n",
    "\n",
    "Heatmap(cellchater,\n",
    "        col = col_fun,\n",
    "        top_annotation = col_annot,\n",
    "        show_row_names = TRUE,\n",
    "        show_column_names = TRUE,\n",
    "        clustering_distance_rows = \"pearson\",\n",
    "        clustering_distance_columns = \"euclidean\",  \n",
    "        #clustering_method_rows = FALSE,\n",
    "        clustering_method_columns = \"single\",\n",
    "        row_title = \"Genes\",\n",
    "        column_title = \"Sample Groups\")\n",
    "dev.off()"
   ]
  },
  {
   "cell_type": "code",
   "execution_count": null,
   "id": "c24c36a0-fa2a-4be1-a086-0e49090fddf6",
   "metadata": {},
   "outputs": [],
   "source": []
  },
  {
   "cell_type": "markdown",
   "id": "1821a9bb-e2f3-41c7-a341-5e4fa4361524",
   "metadata": {},
   "source": [
    "## 2.3 for immune cell"
   ]
  },
  {
   "cell_type": "code",
   "execution_count": null,
   "id": "7de1d54e-f4ea-4484-964b-50366495d5d9",
   "metadata": {},
   "outputs": [],
   "source": [
    "library(readxl)\n",
    "xenium_data <- read_excel(\"figure_revised_9st/grouped_mean_df_immune_filter_top10_zscore.xlsx\")"
   ]
  },
  {
   "cell_type": "code",
   "execution_count": null,
   "id": "4cd526a9-8c36-4d57-8247-23c3683edf13",
   "metadata": {},
   "outputs": [],
   "source": [
    "xenium_data_transposed <- t(xenium_data)\n",
    "colnames(xenium_data_transposed) <- xenium_data$leiden\n",
    "xenium_data_transposed <- xenium_data_transposed[-1, ]\n",
    "\n",
    "row_names <- rownames(xenium_data_transposed)\n",
    "xenium_data_transposed <- apply(xenium_data_transposed, 2, as.numeric)\n",
    "xenium_data_transposed <- as.data.frame(xenium_data_transposed)\n",
    "rownames(xenium_data_transposed) <- row_names\n"
   ]
  },
  {
   "cell_type": "code",
   "execution_count": null,
   "id": "c1d41f4d-061e-47d5-b9ec-ca40afc03c0c",
   "metadata": {},
   "outputs": [],
   "source": [
    "color_dict <- c(\n",
    "\"0\"= \"#E71BE6\",\n",
    "    \"1\"= \"#00FFFF\",\n",
    "    \"2\"= \"#009203\",\n",
    "    \"3\"= \"#FEEC37\",\n",
    "    \"4\"= \"#ff002a\",\n",
    "    \"5\"= \"#4fa9ff\",\n",
    "    \"6\"= \"#C1A029\",\n",
    "    \"7\"= \"#0000FF\",\n",
    "    \"8\"= \"#FF1493\",\n",
    "    \"9\"= \"#E6BEFF\",\n",
    "    \"10\"= \"#565DFD\",#565DFD\n",
    "    \"11\"= \"#FF6347\",\n",
    "    \"12\"= \"#A2F852\"\n",
    ")\n",
    "\n",
    "group <- colnames(xenium_data_transposed)\n",
    "\n",
    "# 创建 HeatmapAnnotation 对象\n",
    "col_annot <- HeatmapAnnotation(\n",
    "  Group = group,\n",
    "  col = list(Group = color_dict)\n",
    ")"
   ]
  },
  {
   "cell_type": "code",
   "execution_count": null,
   "id": "f1d17369-ccb1-4ea6-926b-e9797360d70f",
   "metadata": {},
   "outputs": [],
   "source": [
    "pdf(\"figure_revised_9st/heatmap_immune_filter_1.pdf\", width = 6, height = 12)\n",
    "options(repr.plot.width=8, repr.plot.height=15)\n",
    "col_fun <- colorRamp2(c(-1, 0, 1), c(\"blue\", \"white\", \"red\"))\n",
    "Heatmap(xenium_data_transposed,\n",
    "        col = col_fun,\n",
    "        top_annotation = col_annot,\n",
    "        show_row_names = TRUE,\n",
    "        show_column_names = TRUE,\n",
    "        clustering_distance_rows = \"pearson\",\n",
    "        clustering_distance_columns = \"pearson\",  #manhattan   euclidean  pearson\n",
    "        #clustering_method_rows = FALSE,\n",
    "        clustering_method_columns = \"complete\",\n",
    "        row_title = \"Genes\",\n",
    "        column_title = \"Sample Groups\")\n",
    "dev.off()"
   ]
  },
  {
   "cell_type": "code",
   "execution_count": null,
   "id": "75ed62dc-176a-4e04-8195-f9efd5d0e802",
   "metadata": {},
   "outputs": [],
   "source": []
  },
  {
   "cell_type": "markdown",
   "id": "c0f078cc-b487-462a-886f-ef20e1feadf2",
   "metadata": {},
   "source": [
    "## 2.4 for neighbour analysis"
   ]
  },
  {
   "cell_type": "code",
   "execution_count": null,
   "id": "da2e8bd6-d6c6-46a7-b5d2-bc1325b49821",
   "metadata": {},
   "outputs": [],
   "source": [
    "combined_enrichment <- read_excel(\"enrichment_df_adta1.5_neighbour analysis_zscore.xlsx\")"
   ]
  },
  {
   "cell_type": "code",
   "execution_count": null,
   "id": "f14ef258-adf1-4d4f-966f-76dad93bcd8c",
   "metadata": {},
   "outputs": [],
   "source": [
    "enrichment_matrix <- as.data.frame(combined_enrichment)\n",
    "rownames(enrichment_matrix)=enrichment_matrix$...1\n",
    "enrichment_matrix <- enrichment_matrix %>% select(-...1)\n",
    "\n",
    "rownames(enrichment_matrix) <- as.character(rownames(enrichment_matrix))\n",
    "colnames(enrichment_matrix) <- as.character(colnames(enrichment_matrix))\n",
    "new_order <- c(as.character(0:17), as.character(40:52))\n",
    "enrichment_matrix <- enrichment_matrix[new_order, ]\n",
    "enrichment_matrix <- enrichment_matrix[, new_order]"
   ]
  },
  {
   "cell_type": "code",
   "execution_count": null,
   "id": "7a112bd0-0768-4a91-a2e7-6a41c7abf710",
   "metadata": {},
   "outputs": [],
   "source": [
    "cluster_colors <- c(\n",
    "  \"0\" = \"#3182bd\",\n",
    "  \"1\" = \"#6baed6\",\n",
    "  \"2\" = \"#9ecae1\",\n",
    "  \"3\" = \"#c6dbef\",\n",
    "  \"4\" = \"#e6550d\",\n",
    "  \"5\" = \"#fd8d3c\",\n",
    "  \"6\" = \"#fdae6b\",\n",
    "  \"7\" = \"#fdd0a2\",\n",
    "  \"8\" = \"#31a354\",\n",
    "  \"9\" = \"#74c476\",\n",
    "  \"10\" = \"#a1d99b\",\n",
    "  \"11\" = \"#c7e9c0\",\n",
    "  \"12\" = \"#756bb1\",\n",
    "  \"13\" = \"#9e9ac8\",\n",
    "  \"14\" = \"#bcbddc\",\n",
    "  \"15\" = \"#dadaeb\",\n",
    "  \"16\" = \"#636363\",\n",
    "  \"17\" = \"#969696\",\n",
    "  \"40\" = \"#49E2F6\",\n",
    "  \"41\" = \"#fef59b\",\n",
    "  \"42\" = \"#ff1493\",\n",
    "  \"43\" = \"#347928\",\n",
    "  \"44\" = \"#feec37\",\n",
    "  \"45\" = \"#ff002a\",\n",
    "  \"46\" = \"#550686\",\n",
    "  \"47\" = \"#e71be6\",\n",
    "  \"48\" = \"#00879d\",\n",
    "  \"49\" = \"#c1a029\",\n",
    "  \"50\" = \"#a2f852\",\n",
    "  \"51\" = \"#002060\",\n",
    "  \"52\" = \"#565dfd\"\n",
    ")"
   ]
  },
  {
   "cell_type": "code",
   "execution_count": null,
   "id": "add75675-9769-49af-92d0-8b8f701cda01",
   "metadata": {},
   "outputs": [],
   "source": [
    "ha_row <- rowAnnotation(\n",
    "  Group = rownames(enrichment_matrix),  \n",
    "  col = list(Group = cluster_colors)  \n",
    ")\n",
    "\n",
    "col_annot <- columnAnnotation(\n",
    "  Cluster = colnames(enrichment_matrix), \n",
    "    col = list( Cluster = cluster_colors))"
   ]
  },
  {
   "cell_type": "code",
   "execution_count": null,
   "id": "db8a383c-c84c-4eb0-bb38-e1f436b839ca",
   "metadata": {},
   "outputs": [],
   "source": [
    "pdf(\"neibohor_adata_immune1_2.pdf\", width = 12, height = 12)\n",
    "p=Heatmap(enrichment_matrix,\n",
    "        name = \"Expression Levels\",\n",
    "        col = colorRamp2(c(-2, 0, 40), c(\"blue\", \"white\", \"red\")),  \n",
    "        show_row_names = TRUE,\n",
    "        show_column_names = TRUE,\n",
    "        cluster_rows = FALSE,  \n",
    "        cluster_columns = FALSE,  \n",
    "        top_annotation = col_annot,  \n",
    "        left_annotation = ha_row,\n",
    "        rect_gp = gpar(col = NA),   \n",
    "        border = TRUE          \n",
    "print(p)\n",
    "dev.off()"
   ]
  },
  {
   "cell_type": "markdown",
   "id": "1a006234-6bc5-4328-b9ca-daa6ea5e5442",
   "metadata": {},
   "source": [
    "### 2.5 neiborhood analysis in different follicle"
   ]
  },
  {
   "cell_type": "code",
   "execution_count": null,
   "id": "8c732b10-9823-4a57-ac57-5b8d3ee3b001",
   "metadata": {},
   "outputs": [],
   "source": [
    "enrichment_matrix <- read_excel(\"figure_revised_9st/combined_enrichment_matrix.xlsx\", sheet =1)"
   ]
  },
  {
   "cell_type": "code",
   "execution_count": null,
   "id": "1c7048b7-d38e-4572-b4c0-af06a9120318",
   "metadata": {},
   "outputs": [],
   "source": [
    "enrichment_matrix=as.data.frame(enrichment_matrix)\n",
    "\n",
    "current_cols <- colnames(enrichment_matrix)\n",
    "categories <- c(\"type1\", \"type2\", \"type3\", \"ca\", \"ca_late\", \"healthy\")\n",
    "suffixes <- as.character(0:12)\n",
    "add_missing_cols <- function(df, category, existing_cols, all_suffixes) {\n",
    "  expected_cols <- paste0(category, \"_\", all_suffixes)\n",
    "  missing_cols <- setdiff(expected_cols, existing_cols)\n",
    "  if (length(missing_cols) > 0) {\n",
    "    df[missing_cols] <- 0\n",
    "  }\n",
    "  return(df)\n",
    "}\n",
    "\n",
    "\n",
    "for (cat in categories) {\n",
    "  enrichment_matrix <- add_missing_cols(enrichment_matrix, cat, current_cols, suffixes)\n",
    "}\n",
    "\n",
    "enrichment_matrix[is.na(enrichment_matrix)] <- 0"
   ]
  },
  {
   "cell_type": "code",
   "execution_count": null,
   "id": "59ae9d20-2ab0-4534-97aa-b5f3adfd28b2",
   "metadata": {},
   "outputs": [],
   "source": [
    "enrichment_matrix[[\"...1\"]] <- as.numeric(enrichment_matrix[[\"...1\"]])\n",
    "\n",
    "enrichment_matrix <- enrichment_matrix[order(enrichment_matrix[[\"...1\"]]), ]\n",
    "\n",
    "rownames(enrichment_matrix) <- enrichment_matrix[[\"...1\"]]\n",
    "enrichment_matrix <- enrichment_matrix[, !colnames(enrichment_matrix) %in% \"...1\"]"
   ]
  },
  {
   "cell_type": "code",
   "execution_count": null,
   "id": "e0bce526-0483-479d-8a98-0c9999729dec",
   "metadata": {},
   "outputs": [],
   "source": [
    "\n",
    "categories <- c(\"healthy\", \"type1\", \"type2\", \"type3\", \"ca\", \"ca_late\")\n",
    "\n",
    "\n",
    "suffixes <- as.character(0:12)\n",
    "\n",
    "expected_cols <- unlist(lapply(suffixes, function(suf) paste0(categories, \"_\", suf)))\n",
    "\n",
    "\n",
    "current_cols <- colnames(enrichment_matrix)\n",
    "\n",
    "\n",
    "ordered_cols <- intersect(expected_cols, current_cols)\n",
    "enrichment_matrix <- enrichment_matrix[, ordered_cols]\n",
    "\n",
    "\n",
    "print(colnames(enrichment_matrix))\n"
   ]
  },
  {
   "cell_type": "code",
   "execution_count": null,
   "id": "e92d488c-e7bc-45ed-9a6f-733634efc4f7",
   "metadata": {},
   "outputs": [],
   "source": [
    "\n",
    "data_vector <- as.vector(as.matrix(enrichment_matrix))\n",
    "\n",
    "\n",
    "data_vector_scaled <- scale(data_vector, center = TRUE, scale = TRUE)\n",
    "\n",
    "enrichment_matrix_scaled <- matrix(data_vector_scaled, nrow = nrow(enrichment_matrix), ncol = ncol(enrichment_matrix))\n",
    "\n"
   ]
  },
  {
   "cell_type": "code",
   "execution_count": null,
   "id": "9ef85891-5735-4748-aeda-e256f79f93a8",
   "metadata": {},
   "outputs": [],
   "source": [
    "cluster_colors <- c(\n",
    " \"0\" = \"#E71BE6\",  \n",
    "  \"1\" = \"#00FFFF\",  \n",
    "  \"2\" = \"#009203\",  \n",
    "  \"3\" = \"#FEEC37\",   \n",
    "  \"4\" = \"#ff002a\", \n",
    "  \"5\" = \"#4fa9ff\",  \n",
    "  \"6\" = \"#C1A029\",   \n",
    "  \"7\" = \"#0000FF\",   \n",
    "  \"8\" = \"#FF1493\",   \n",
    "  \"9\" = \"#E6BEFF\",  \n",
    "  \"10\" = \"#565DFD\", \n",
    "  \"11\" = \"#FF6347\",  \n",
    "  \"12\" = \"#A2F852\"  \n",
    ")"
   ]
  },
  {
   "cell_type": "code",
   "execution_count": null,
   "id": "d6b793c3-c962-4fe3-a3a9-3bcb789a4ab2",
   "metadata": {},
   "outputs": [],
   "source": [
    "ha_row <- rowAnnotation(\n",
    "  Group = cluster, \n",
    "  col = list(Group = cluster_colors)  \n",
    ")\n",
    "\n",
    "col_annot <- columnAnnotation(\n",
    "  Cluster = c(\"0\", \"1\", \"2\", \"3\", \"4\", \"5\", \"6\", \"7\", \"8\", \"9\", \"10\", \"11\", \"12\"),  \n",
    "    col = list( Cluster = cluster_colors))"
   ]
  },
  {
   "cell_type": "code",
   "execution_count": null,
   "id": "334af4df-f922-414c-9d1f-71bef58a1b8a",
   "metadata": {},
   "outputs": [],
   "source": [
    "pdf(\"figure_revised_9st/neibohor_immune_healthy_ca_9st.pdf\", width = 5, height = 6) \n",
    "Heatmap(enrichment_matrix_scaled,\n",
    "        name = \"Expression Levels\",\n",
    "        col = colorRamp2(c(-1, 0, 1), c(\"blue\", \"white\", \"red\")), \n",
    "        show_row_names = TRUE,\n",
    "        show_column_names = TRUE,\n",
    "        cluster_rows = FALSE,  \n",
    "        cluster_columns = FALSE,  \n",
    "        top_annotation = col_annot,  \n",
    "        left_annotation = ha_row, \n",
    "        split = cluster,      \n",
    "        rect_gp = gpar(col = NA),    \n",
    "        border = TRUE            \n",
    ")\n",
    "dev.off()"
   ]
  },
  {
   "cell_type": "code",
   "execution_count": null,
   "id": "a1c9e46d-99a7-4852-81ac-0f61da308e66",
   "metadata": {},
   "outputs": [],
   "source": []
  },
  {
   "cell_type": "markdown",
   "id": "29c08856-3240-4257-805f-56816fd75aec",
   "metadata": {},
   "source": [
    "# 3 histogram for Xenium data"
   ]
  },
  {
   "cell_type": "markdown",
   "id": "6e9b9d13-dedc-4684-8534-7a0ddafe41c6",
   "metadata": {},
   "source": [
    "## 3.1 for Whole sample quantification"
   ]
  },
  {
   "cell_type": "code",
   "execution_count": null,
   "id": "2b4e910a-a184-4502-81c0-7e915d90dcdc",
   "metadata": {},
   "outputs": [],
   "source": [
    "data <- read_excel(\"selected_columns_combined_adata.xlsx\")"
   ]
  },
  {
   "cell_type": "code",
   "execution_count": null,
   "id": "94d9f12e-9e4f-43a3-a534-477bafdc666f",
   "metadata": {},
   "outputs": [],
   "source": [
    "data <- data  %>%\n",
    "  mutate(ROI = case_when(\n",
    "    str_detect(ROI_1, \"^type1\") ~ \"type1\",\n",
    "    str_detect(ROI_1, \"^type2b\") ~ \"type2\",\n",
    "    str_detect(ROI_1, \"^type3a\") ~ \"type3\",\n",
    "    str_detect(ROI_1, \"^type3b\") ~ \"type3\",\n",
    "     str_detect(ROI_1, \"^ca_late\") ~ \"ca_late\",\n",
    "    str_detect(ROI_1, \"^ca\") ~ \"ca\",\n",
    "    str_detect(ROI_1, \"^healthy\") ~ \"healthy\",\n",
    "    TRUE ~ ROI_1  \n",
    "  ))"
   ]
  },
  {
   "cell_type": "code",
   "execution_count": null,
   "id": "233ccf8a-a99b-49f4-8f86-054101f4f8d3",
   "metadata": {},
   "outputs": [],
   "source": [
    "percentage_data <- data %>%\n",
    "  group_by(ROI, leiden_1.5_updata) %>%\n",
    "  summarise(count = n(), .groups = \"drop\") %>%\n",
    "  group_by(ROI) %>%\n",
    "  mutate(percentage = (count / sum(count)) * 100)\n",
    "\n",
    "percentage_data <- percentage_data %>%\n",
    "  mutate(\n",
    "    leiden_1.5_updata = factor(leiden_1.5_updata, levels = as.character(0:17)), \n",
    "    ROI = factor(ROI, levels = c(\"healthy\", \"type1\", \"type2b\", \"type3a\", \"type3b\", \"ca\", \"ca_late\")) \n",
    "  )"
   ]
  },
  {
   "cell_type": "code",
   "execution_count": null,
   "id": "12df6a5b-3044-45ca-80e8-313a33466e2d",
   "metadata": {},
   "outputs": [],
   "source": [
    "color_dict <- c(\n",
    "  \"0\" = \"#FEEC37\",\n",
    "  \"1\" = \"#347928\",\n",
    "  \"2\" = \"#92A8D1\",\n",
    "  \"3\" = \"#009B77\",\n",
    "  \"4\" = \"#ff002a\",\n",
    "  \"5\" = \"#4B4949\",\n",
    "  \"6\" = \"#6B5B95\",\n",
    "  \"7\" = \"#DD4124\",\n",
    "  \"8\" = \"#C1A029\",\n",
    "  \"9\" = \"#A2F852\",\n",
    "  \"10\" = \"#565DFD\",\n",
    "  \"11\" = \"#E6BEFF\",\n",
    "  \"12\" = \"#E71BE6\",\n",
    "  \"13\" = \"#0000FF\",\n",
    "  \"14\" = \"#00FFFF\",\n",
    "  \"15\" = \"#FF1493\",\n",
    "  \"16\" = \"#FFBB00\",\n",
    "  \"17\" = \"#FF6F61\",\n",
    "  \"18\" = \"#6B5B95\",\n",
    "  \"19\" = \"#88B04B\",\n",
    "  \"20\" = \"#92A8D1\",\n",
    "  \"21\" = \"#955251\",\n",
    "  \"22\" = \"#009B77\",\n",
    "  \"23\" = \"#DD4124\"\n",
    ")"
   ]
  },
  {
   "cell_type": "code",
   "execution_count": null,
   "id": "7d15d8ba-a784-44d3-bce6-04d195f44cf8",
   "metadata": {},
   "outputs": [],
   "source": [
    "library(dplyr)\n",
    "\n",
    "new_levels <- as.character(c(13, 6, 0, 8, 1, 2, 3, 5, 12, 16, 4, 9, 10, 11, 14, 17, 7, 15))\n",
    "\n",
    "percentage_data <- data %>%\n",
    "  group_by(ROI, leiden_1.5_updata) %>%\n",
    "  summarise(count = n(), .groups = \"drop\") %>%\n",
    "  group_by(ROI) %>%\n",
    "  mutate(percentage = (count / sum(count)) * 100) %>%\n",
    "  ungroup() %>%\n",
    "  mutate(\n",
    "    leiden_1.5_updata = factor(leiden_1.5_updata, levels = new_levels),  # 重新按 new_levels 设定因子顺序\n",
    "    ROI = factor(ROI, levels = c(\"healthy\", \"type1\", \"type2\", \"type3\", \"ca\", \"ca_late\")) # 按指定顺序排列\n",
    "  )\n",
    "\n",
    "levels(percentage_data$leiden_1.5_updata)\n",
    "levels(percentage_data$ROI)"
   ]
  },
  {
   "cell_type": "code",
   "execution_count": null,
   "id": "64429326-bc6e-4c47-9ffd-112b7d577212",
   "metadata": {},
   "outputs": [],
   "source": [
    "options(repr.plot.width=10, repr.plot.height=10)\n",
    "p=ggplot(percentage_data, aes(x = ROI, y = percentage, fill = leiden_1.5_updata)) +\n",
    "  geom_bar(stat = \"identity\", position = \"stack\") +\n",
    "  scale_fill_manual(values = color_dict) +\n",
    "  labs(\n",
    "    title = \"Percentage of leiden_1.5_updata in ROI\",\n",
    "    x = \"ROI\",\n",
    "    y = \"Percentage (%)\",\n",
    "    fill = \"Leiden 1.5\"\n",
    "  ) +\n",
    "  theme_minimal() +\n",
    "  theme(\n",
    "    axis.title = element_text(size = 14, face = \"bold\"), # 坐标轴标题加粗\n",
    "    axis.text = element_text(size = 12, face = \"bold\"),  # 坐标轴文字加粗\n",
    "    axis.line = element_line(color = \"black\", size = 0.8), # 添加坐标轴线\n",
    "    panel.grid = element_blank() # 去除背景网格线（可选）\n",
    "  )\n",
    "ggsave(\"figure_revised_9st/leiden_ROI_percentage_new_merge_follicle_type_heatmap_order.pdf\", plot = p, width = 7, height = 10)"
   ]
  },
  {
   "cell_type": "code",
   "execution_count": null,
   "id": "1c1fcf1d-ab91-4a10-b222-871d9dac203e",
   "metadata": {},
   "outputs": [],
   "source": []
  },
  {
   "cell_type": "markdown",
   "id": "83ee3f57-efee-4792-aefa-6292bd74120e",
   "metadata": {},
   "source": [
    "## 3.2 for cellcharter in different follicles"
   ]
  },
  {
   "cell_type": "code",
   "execution_count": null,
   "id": "64c8d068-cd16-4633-8bfc-6c58744255b9",
   "metadata": {},
   "outputs": [],
   "source": [
    "data <- read_excel(\"selected_columns_combined_adata_cellcharter.xlsx\")"
   ]
  },
  {
   "cell_type": "code",
   "execution_count": null,
   "id": "ced22758-08a2-4cdc-9881-55362023f421",
   "metadata": {},
   "outputs": [],
   "source": [
    "color_dict <- c(\n",
    "  \"0\" = \"#FF6F61\",\n",
    "  \"1\" = \"#355C7D\",\n",
    "  \"2\" = \"#6B5B95\",\n",
    "  \"3\" = \"#FEEC37\",\n",
    "  \"4\" = \"#92A8D1\",\n",
    "  \"5\" = \"#A2F852\",\n",
    "  \"6\" = \"#00FFFF\",\n",
    "  \"7\" = \"#E6BEFF\",\n",
    "  \"8\" = \"#ff002a\",\n",
    "  \"9\" = \"#E71BE6\"\n",
    ")"
   ]
  },
  {
   "cell_type": "code",
   "execution_count": null,
   "id": "f303a106-74d8-420a-bf04-e0e464658032",
   "metadata": {},
   "outputs": [],
   "source": [
    "data <- data  %>%\n",
    "  mutate(ROI = case_when(\n",
    "    str_detect(ROI_1, \"^type1\") ~ \"type1\",\n",
    "    str_detect(ROI_1, \"^type2b\") ~ \"type2\",\n",
    "    str_detect(ROI_1, \"^type3a\") ~ \"type3\",\n",
    "    str_detect(ROI_1, \"^type3b\") ~ \"type3\",\n",
    "     str_detect(ROI_1, \"^ca_late\") ~ \"ca_late\",\n",
    "    str_detect(ROI_1, \"^ca\") ~ \"ca\",\n",
    "    str_detect(ROI_1, \"^healthy\") ~ \"healthy\",\n",
    "    TRUE ~ ROI_1  \n",
    "  ))"
   ]
  },
  {
   "cell_type": "code",
   "execution_count": null,
   "id": "5614fb47-6f06-4622-bc41-155f563b4053",
   "metadata": {},
   "outputs": [],
   "source": [
    "library(dplyr)\n",
    "\n",
    "percentage_data <- data %>%\n",
    "  group_by(ROI, cellcharter) %>%\n",
    "  summarise(count = n(), .groups = \"drop\") %>%\n",
    "  group_by(ROI) %>%\n",
    "  mutate(percentage = (count / sum(count)) * 100)\n",
    "\n",
    "percentage_data <- percentage_data %>%\n",
    "  mutate(\n",
    "    leiden_1.5_updata = factor(cellcharter, levels = as.character(0:9)), \n",
    "   ROI = factor(ROI, levels = c(\"healthy\", \"type1\", \"type2\", \"type3\", \"ca\", \"ca_late\")) \n",
    "  )"
   ]
  },
  {
   "cell_type": "code",
   "execution_count": null,
   "id": "9fcee6e4-c496-414c-8de6-f526def648dc",
   "metadata": {},
   "outputs": [],
   "source": [
    "options(repr.plot.width=10, repr.plot.height=10)\n",
    "p=ggplot(percentage_data, aes(x = ROI, y = percentage, fill = cellcharter)) +\n",
    "  geom_bar(stat = \"identity\", position = \"stack\") +\n",
    "  scale_fill_manual(values = color_dict) +\n",
    "  labs(\n",
    "    title = \"Percentage of cellnich in ROI\",\n",
    "    x = \"ROI\",\n",
    "    y = \"Percentage (%)\",\n",
    "    fill = \"cellcharter\"\n",
    "  ) +\n",
    "  theme_minimal() +\n",
    "  theme(\n",
    "    axis.title = element_text(size = 14, face = \"bold\"),\n",
    "    axis.text = element_text(size = 12, face = \"bold\"),  \n",
    "    axis.line = element_line(color = \"black\", size = 0.8), \n",
    "    panel.grid = element_blank() \n",
    "  )\n",
    "p\n",
    "ggsave(\"figure_revised_9st/cellchater_ROI_percentage_new_merge_heatmap_order.pdf\", plot = p, width = 8, height = 10)"
   ]
  },
  {
   "cell_type": "code",
   "execution_count": null,
   "id": "b6a6a183-6675-4c8c-ad24-9048cdd478cc",
   "metadata": {},
   "outputs": [],
   "source": []
  },
  {
   "cell_type": "markdown",
   "id": "ac9c0465-3b4f-47b4-905f-1bd4c81abe20",
   "metadata": {},
   "source": [
    "## 3.2 for CD45 positive cell in different follicle type"
   ]
  },
  {
   "cell_type": "code",
   "execution_count": null,
   "id": "dd3080a4-9909-4af5-ba2a-65a83c9ad210",
   "metadata": {},
   "outputs": [],
   "source": [
    "adata2obs <- read_csv(\"figure_revised_9st/adata2obs.csv\")"
   ]
  },
  {
   "cell_type": "code",
   "execution_count": null,
   "id": "7b35f2e3-c750-486a-992c-928d1ddfcbd6",
   "metadata": {},
   "outputs": [],
   "source": [
    "color_dict <- c(\n",
    "  \"0\" = \"gray\",\n",
    "  \"1\" = \"#355C7D\",\n",
    "  \"2\" = \"#E71BE6\",\n",
    "  \"3\" = \"#FEEC37\",\n",
    "  \"4\" = \"#92A8D1\",\n",
    "  \"5\" = \"#A2F852\",\n",
    "  \"6\" = \"#00FFFF\",\n",
    "  \"7\" = \"#E6BEFF\",\n",
    "  \"8\" = \"#ff002a\",\n",
    "  \"9\" = \"#E71BE6\"\n",
    ")"
   ]
  },
  {
   "cell_type": "code",
   "execution_count": null,
   "id": "aaf33b6b-3ac6-4044-88c2-3662206c5375",
   "metadata": {},
   "outputs": [],
   "source": [
    "options(repr.plot.width=10, repr.plot.height=10)\n",
    "\n",
    "percentage_data <-adata2obs %>%\n",
    "  group_by(leiden_1.5_updata,PTPRC) %>%\n",
    "  summarise(count = n(), .groups = \"drop\") %>%\n",
    "  group_by(leiden_1.5_updata) %>%\n",
    "  mutate(percentage = (count / sum(count)) * 100)\n",
    "\n",
    "percentage_data <- percentage_data %>%\n",
    "  mutate(\n",
    "    leiden_1.5_updata = factor(leiden_1.5_updata, levels = as.character(0:17)), \n",
    "    PTPRC = factor(PTPRC, levels = c(\"2\", \"1\", \"0\"))\n",
    "  )\n",
    "\n",
    "\n",
    "p=ggplot(percentage_data, aes(x =leiden_1.5_updata, y = percentage, fill =PTPRC)) +\n",
    "  geom_bar(stat = \"identity\", position = \"stack\") +\n",
    "  scale_fill_manual(values = color_dict) +\n",
    "  labs(\n",
    "    title = \"Percentage of leiden_1.5_updata in ROI\",\n",
    "    x = \"Cell Cluster\",\n",
    "    y = \"Percentage (%)\",\n",
    "    fill = \"Leiden 1.5\"\n",
    "  ) +\n",
    "  theme_minimal() +\n",
    "  theme(\n",
    "    axis.title = element_text(size = 14, face = \"bold\"), \n",
    "    axis.text = element_text(size = 12, face = \"bold\"), \n",
    "    axis.line = element_line(color = \"black\", size = 0.8), \n",
    "    panel.grid = element_blank() \n",
    "  )\n",
    "p\n",
    "ggsave(\"figure_revised_9st/cell cluster__immune_percentage.pdf\", plot = p, width = 10, height = 10)"
   ]
  },
  {
   "cell_type": "code",
   "execution_count": null,
   "id": "f5dcf8d0-c7d1-4088-937e-142b9d13aa54",
   "metadata": {},
   "outputs": [],
   "source": []
  },
  {
   "cell_type": "code",
   "execution_count": null,
   "id": "ae0c2ee2-ea07-4197-bb3a-a7ae7f003e7e",
   "metadata": {},
   "outputs": [],
   "source": [
    "ftobs <- read_csv(\"figure_revised_9st/ftobs.csv\")"
   ]
  },
  {
   "cell_type": "code",
   "execution_count": null,
   "id": "154c732f-def9-4ea7-8254-7dbcf87f81d9",
   "metadata": {},
   "outputs": [],
   "source": [
    "result_df <- ftobs %>%\n",
    " group_by(ROI1) %>%\n",
    "  summarise(\n",
    "    total_count = n(),  \n",
    "    count_1 = sum(filter_immune == 1, na.rm = TRUE), \n",
    "    percent = (count_1 / total_count) * 100 \n",
    "  ) %>%\n",
    "  ungroup()\n",
    "\n",
    "library(dplyr)\n",
    "library(stringr)\n",
    "\n",
    "result_df <- result_df %>%\n",
    "  mutate(ROI_group = str_extract(ROI1, \"^[a-zA-Z]+\\\\d*\"))\n",
    "\n",
    "\n",
    "result_df <- result_df %>%\n",
    "  mutate(follicletype = case_when(\n",
    "    str_detect(ROI1, \"^type1\") ~ \"type1\",\n",
    "    str_detect(ROI1, \"^type2b\") ~ \"type2\",\n",
    "    str_detect(ROI1, \"^type3a\") ~ \"type3\",\n",
    "    str_detect(ROI1, \"^type3b\") ~ \"type3\",\n",
    "     str_detect(ROI1, \"^ca_late\") ~ \"ca_late\",\n",
    "    str_detect(ROI1, \"^ca\") ~ \"ca\",\n",
    "    str_detect(ROI1, \"^healthy\") ~ \"healthy\",\n",
    "    TRUE ~ ROI1  \n",
    "  ))"
   ]
  },
  {
   "cell_type": "code",
   "execution_count": null,
   "id": "c1822676-33f9-40bc-b054-6939d0971b53",
   "metadata": {},
   "outputs": [],
   "source": []
  },
  {
   "cell_type": "code",
   "execution_count": null,
   "id": "cc87b1fe-48a0-4544-89d8-191ae5a82e47",
   "metadata": {},
   "outputs": [],
   "source": [
    "library(ggplot2)\n",
    "library(dplyr)\n",
    "\n",
    "\n",
    "summary_df <- result_df %>%\n",
    "  group_by(ROI_group) %>%\n",
    "  summarise(\n",
    "    mean_percent = mean(percent, na.rm = TRUE), \n",
    "    se = sd(percent, na.rm = TRUE) / sqrt(n())   \n",
    "  )  %>%\n",
    "mutate(\n",
    "      ROI_group= factor(ROI_group, levels = c(\"healthy\", \"type1\", \"type2b\", \"type3a\", \"type3b\", \"ca\", \"ca_late\")) \n",
    "    )\n",
    "\n",
    "\n",
    "p=ggplot(summary_df, aes(x = ROI_group, y = mean_percent)) +\n",
    "  geom_bar(stat = \"identity\", fill = \"#E71BE6\", width = 0.8) +  \n",
    "  geom_errorbar(aes(ymin = mean_percent - se, ymax = mean_percent + se), \n",
    "                width = 0.2, color = \"black\") +  \n",
    "  scale_y_continuous(expand = c(0, 0)) + \n",
    "  labs(title = \"Percentage of ROI Groups Across Follicle Types\",\n",
    "       x = \"Follicle Type\",\n",
    "       y = \"Percentage (%)\") +\n",
    "  theme_minimal() +\n",
    "  theme(\n",
    "   axis.text.x = element_text(angle = 90,size = 20, face = \"bold\", color = \"black\"),  \n",
    "    axis.text.y = element_text(size = 20, face = \"bold\", color = \"black\"),  \n",
    "    axis.title.x = element_text(face = \"bold\", size = 20, margin = margin(t = 10)),\n",
    "    axis.title.y = element_text(face = \"bold\", size = 20, margin = margin(r = 10)),\n",
    "    plot.title = element_text(hjust = 0.5, face = \"bold\", size = 15),\n",
    "   panel.grid.major = element_blank(),  \n",
    "    panel.grid.minor = element_blank(),  \n",
    "    panel.grid.major.y = element_blank(),\n",
    "    panel.border = element_blank(),\n",
    "    axis.line = element_line(size = 1, color = \"black\")\n",
    "  )\n",
    "p\n",
    "ggsave(\"figure_revised_9st/percetange_immune_follicle_type.pdf\", plot = p, width = 5, height = 10)"
   ]
  },
  {
   "cell_type": "code",
   "execution_count": null,
   "id": "4f73d8a4-2caa-4935-82a0-1e91cb1390a7",
   "metadata": {},
   "outputs": [],
   "source": []
  },
  {
   "cell_type": "code",
   "execution_count": null,
   "id": "2f8ad030-2fd4-4999-9f3b-e24a87155119",
   "metadata": {},
   "outputs": [],
   "source": [
    "ftobs <- ftobs %>%\n",
    "  mutate(follicletype = case_when(\n",
    "    str_detect(ROI1, \"^type1\") ~ \"type1\",\n",
    "    str_detect(ROI1, \"^type2b\") ~ \"type2\",\n",
    "    str_detect(ROI1, \"^type3a\") ~ \"type3\",\n",
    "    str_detect(ROI1, \"^type3b\") ~ \"type3\",\n",
    "     str_detect(ROI1, \"^ca_late\") ~ \"ca_late\",\n",
    "    str_detect(ROI1, \"^ca\") ~ \"ca\",\n",
    "    str_detect(ROI1, \"^healthy\") ~ \"healthy\",\n",
    "    TRUE ~ ROI1  \n",
    "  ))\n",
    "\n",
    "ftobsimmune <- ftobs %>%\n",
    "  filter(immune_filter != 30)"
   ]
  },
  {
   "cell_type": "code",
   "execution_count": null,
   "id": "9070fe59-a003-4c86-b609-41bf05b1e3e6",
   "metadata": {},
   "outputs": [],
   "source": [
    "color_dict <- c(\n",
    "   \"0\"= \"#E71BE6\",\n",
    "    \"1\"= \"#00FFFF\",\n",
    "    \"2\"= \"#009203\",\n",
    "    \"3\"= \"#FEEC37\",\n",
    "    \"4\"= \"#ff002a\",\n",
    "    \"5\"= \"#4fa9ff\",\n",
    "    \"6\"= \"#C1A029\",\n",
    "    \"7\"= \"#0000FF\",\n",
    "    \"8\"= \"#FF1493\",\n",
    "    \"9\"= \"#E6BEFF\",\n",
    "    \"10\"= \"#565DFD\",\n",
    "    \"11\"= \"#FF6347\",\n",
    "    \"12\"= \"#A2F852\"\n",
    ")"
   ]
  },
  {
   "cell_type": "code",
   "execution_count": null,
   "id": "d72a428a-3787-406a-b7e8-ae365b68a1ed",
   "metadata": {},
   "outputs": [],
   "source": [
    "library(dplyr)\n",
    "\n",
    "new_levels <- as.character(c(9, 5, 4, 6,12, 8, 3, 11, 2, 1, 10, 0, 7))\n",
    "\n",
    "percentage_data <- ftobsimmune %>%\n",
    "  group_by(follicletype, immune_filter) %>%\n",
    "  summarise(count = n(), .groups = \"drop\") %>%\n",
    "  group_by(follicletype) %>%\n",
    "  mutate(percentage = (count / sum(count)) * 100) %>%\n",
    "  ungroup() %>%\n",
    "  mutate(\n",
    "    immune_filter = factor(immune_filter, levels = new_levels), \n",
    "    follicletype = factor(follicletype, levels = c(\"healthy\", \"type1\", \"type2\", \"type3\", \"ca\", \"ca_late\"))\n",
    "  )\n",
    "\n",
    "\n",
    "levels(percentage_data$immune_filter)\n",
    "levels(percentage_data$follicletype)"
   ]
  },
  {
   "cell_type": "code",
   "execution_count": null,
   "id": "e4ed928e-e042-43ce-85a3-1133dbf33a4f",
   "metadata": {},
   "outputs": [],
   "source": [
    "options(repr.plot.width=10, repr.plot.height=10)\n",
    "\n",
    "\n",
    "p=ggplot(percentage_data, aes(x = follicletype, y = percentage, fill =immune_filter)) +\n",
    "  geom_bar(stat = \"identity\", position = \"stack\") +\n",
    "  scale_fill_manual(values = color_dict) +\n",
    "  labs(\n",
    "    title = \"Percentage of leiden_1.5_updata in ROI\",\n",
    "    x = \"ROI\",\n",
    "    y = \"Percentage (%)\",\n",
    "    fill = \"Leiden 1.5\"\n",
    "  ) +\n",
    "  theme_minimal() +\n",
    "  theme(\n",
    "    axis.title = element_text(size = 20, face = \"bold\",color = \"black\"), # 坐标轴标题加粗\n",
    "    axis.text.x = element_text(angle = 90,size = 20, face = \"bold\", color = \"black\"),  # X 轴文字大小\n",
    "    axis.text.y = element_text(size = 20, face = \"bold\", color = \"black\"),  # Y 轴文字大小\n",
    "    axis.line = element_line(color = \"black\", size = 0.8), # 添加坐标轴线\n",
    "    panel.grid = element_blank() # 去除背景网格线（可选）\n",
    "  )\n",
    "p\n",
    "ggsave(\"figure_revised_9st/immune_follicletype_percentage_heatmap_order.pdf\", plot = p, width = 10, height = 10)"
   ]
  },
  {
   "cell_type": "code",
   "execution_count": null,
   "id": "4d2e9191-8546-4d8d-a059-0c1f590c7ad2",
   "metadata": {},
   "outputs": [],
   "source": []
  },
  {
   "cell_type": "code",
   "execution_count": null,
   "id": "5a98c5f4-889d-4bb3-9a3d-40f3e7c433cc",
   "metadata": {},
   "outputs": [],
   "source": []
  },
  {
   "cell_type": "code",
   "execution_count": null,
   "id": "b480c4f2-2213-4323-a1d7-3c43add7f1bf",
   "metadata": {},
   "outputs": [],
   "source": []
  },
  {
   "cell_type": "code",
   "execution_count": null,
   "id": "2b43cf7e-c0b1-4bc4-9844-02762a699850",
   "metadata": {},
   "outputs": [],
   "source": []
  },
  {
   "cell_type": "code",
   "execution_count": null,
   "id": "8264a7c6-5c29-477c-9a3f-40882c5e481b",
   "metadata": {},
   "outputs": [],
   "source": []
  },
  {
   "cell_type": "code",
   "execution_count": null,
   "id": "dfd94015-3bd1-4f52-a873-7678f4c9d541",
   "metadata": {},
   "outputs": [],
   "source": []
  },
  {
   "cell_type": "code",
   "execution_count": null,
   "id": "6118bfd2-b80a-4ba5-95dd-f829e8f78a3b",
   "metadata": {},
   "outputs": [],
   "source": []
  },
  {
   "cell_type": "code",
   "execution_count": null,
   "id": "e8875321-589b-4b1d-b9fb-c8842a8470fe",
   "metadata": {},
   "outputs": [],
   "source": []
  },
  {
   "cell_type": "code",
   "execution_count": null,
   "id": "cc0298c3-3552-4632-887e-65ab6e3a9e11",
   "metadata": {},
   "outputs": [],
   "source": []
  },
  {
   "cell_type": "code",
   "execution_count": null,
   "id": "f0132800-984b-4016-a675-065a212c5588",
   "metadata": {},
   "outputs": [],
   "source": []
  },
  {
   "cell_type": "code",
   "execution_count": null,
   "id": "fb099939-4a5d-4a76-a642-86eafc9d334e",
   "metadata": {},
   "outputs": [],
   "source": []
  },
  {
   "cell_type": "code",
   "execution_count": null,
   "id": "96dde10d-7d2e-45f8-a8d9-497f4151e1e9",
   "metadata": {},
   "outputs": [],
   "source": []
  },
  {
   "cell_type": "code",
   "execution_count": null,
   "id": "1d2df37f-ef13-42ca-8614-b92881945ed3",
   "metadata": {},
   "outputs": [],
   "source": []
  },
  {
   "cell_type": "code",
   "execution_count": null,
   "id": "82cadfe6-246e-4018-8799-e971024bfddb",
   "metadata": {},
   "outputs": [],
   "source": []
  },
  {
   "cell_type": "code",
   "execution_count": null,
   "id": "9aff9b31-6e89-48fc-93b1-bfbb2606b2a1",
   "metadata": {},
   "outputs": [],
   "source": []
  },
  {
   "cell_type": "code",
   "execution_count": null,
   "id": "7b05617d-0de3-4382-846e-4199fe2c6c61",
   "metadata": {},
   "outputs": [],
   "source": []
  },
  {
   "cell_type": "code",
   "execution_count": null,
   "id": "76e53523-2e06-448b-9809-a027f7226758",
   "metadata": {},
   "outputs": [],
   "source": []
  },
  {
   "cell_type": "code",
   "execution_count": null,
   "id": "b33bd393-7258-4bbb-88be-dece12c112e6",
   "metadata": {},
   "outputs": [],
   "source": []
  }
 ],
 "metadata": {
  "kernelspec": {
   "display_name": "R",
   "language": "R",
   "name": "ir"
  },
  "language_info": {
   "codemirror_mode": "r",
   "file_extension": ".r",
   "mimetype": "text/x-r-source",
   "name": "R",
   "pygments_lexer": "r",
   "version": "4.3.1"
  }
 },
 "nbformat": 4,
 "nbformat_minor": 5
}
