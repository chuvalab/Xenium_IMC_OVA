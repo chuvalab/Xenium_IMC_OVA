{
 "cells": [
  {
   "cell_type": "markdown",
   "id": "358a5151-6b82-4619-8b7b-01f315b23261",
   "metadata": {},
   "source": [
    "# 1.load package"
   ]
  },
  {
   "cell_type": "code",
   "execution_count": null,
   "id": "822a8da9-55b8-4ba4-8738-59f78a13819e",
   "metadata": {},
   "outputs": [],
   "source": [
    "library(imcRtools)\n",
    "library(cytomapper)\n",
    "library(mclust)\n",
    "library(scuttle)\n",
    "library(tidyverse)\n",
    "library(ggrepel)\n",
    "library(EBImage)\n",
    "library(dittoSeq)\n",
    "library(viridis)\n",
    "library(Rphenograph)\n",
    "library(igraph)\n",
    "library(dittoSeq)\n",
    "library(viridis)\n",
    "library(scater)\n",
    "library(tableone)\n",
    "library(openxlsx)\n",
    "library(gridExtra)"
   ]
  },
  {
   "cell_type": "code",
   "execution_count": null,
   "id": "7403fe7e-239c-4771-9ff6-48dfae36b5c4",
   "metadata": {},
   "outputs": [],
   "source": []
  },
  {
   "cell_type": "markdown",
   "id": "816e8f9e-6125-4a52-a664-59827e06c1a7",
   "metadata": {},
   "source": [
    "# 2.creat spe subject"
   ]
  },
  {
   "cell_type": "code",
   "execution_count": null,
   "id": "610e3a20-ddb3-4ea8-9f69-02aa98ef1b44",
   "metadata": {},
   "outputs": [],
   "source": [
    "# read in raw data\n",
    "spe <- read_steinbock(\"P:/PI/PI_Chuva_de_Sousa_Lopes/susana/Fu/Project/4-CyTOF immune cell/experiment/1-xueying/Analysis_R/2st_for paper_frozen_2025_1_27_revised segmentation/\")\n",
    "spe"
   ]
  },
  {
   "cell_type": "code",
   "execution_count": null,
   "id": "e53f0c81-ad8e-4b2d-8b78-da4a6af4bc6c",
   "metadata": {},
   "outputs": [],
   "source": [
    "# read in mask and image\n",
    "masks <- loadImages(\"masks/\", as.is = TRUE)\n",
    "images <- loadImages(\"img/\")"
   ]
  },
  {
   "cell_type": "code",
   "execution_count": null,
   "id": "deb25109-d548-4f98-a6a8-b01dc44ef9d4",
   "metadata": {},
   "outputs": [],
   "source": [
    "# process data\n",
    "colnames(spe) <- paste0(spe$sample_id, \"_\", spe$ObjectNumber)\n",
    "channelNames(images) <- rownames(spe)\n",
    "all.equal(names(images), names(masks))\n",
    "\n",
    "# Store patient and image level information in elementMetadata\n",
    "mcols(images) <- mcols(masks) <- DataFrame(sample_id = names(images))\n",
    "colnames(spe) <- paste0(spe$sample_id, \"_\", spe$ObjectNumber)"
   ]
  },
  {
   "cell_type": "code",
   "execution_count": null,
   "id": "4771ef18-5c3c-49df-9376-531cb7fec07d",
   "metadata": {},
   "outputs": [],
   "source": [
    "genes_of_interest <- c(\"CD45\", \"CD14\", \"FOXp3\", \"FcεRIα\", \"CD69\", \"CD4\", \"CD8a\", \n",
    "                       \"CollagenI\", \"CD31\", \"ECadherin\", \"CD123\", \"CD141\", \"CD7\", \n",
    "                       \"CD163\", \"CD103\", \"CD127\", \"CD30\", \"CD68\", \"CD11b\", \"CD20\", \n",
    "                       \"CD11c\", \"CD15\", \"CD161\", \"CD117\", \"Ki-67\", \"CD27\", \"HLA-DR\", \n",
    "                       \"CD45RA\", \"CD3\", \"CD1c\", \"CD38\", \"CD45RO\", \"CD57\", \"CD25\", \n",
    "                       \"CD56\", \"SMA\")\n",
    "rowData(spe)$use_channel <- rownames(spe) %in% genes_of_interest"
   ]
  },
  {
   "cell_type": "code",
   "execution_count": null,
   "id": "b520f5de-866d-4781-b3d7-62440c8b2bf6",
   "metadata": {},
   "outputs": [],
   "source": [
    "## tranform  raw data by asinh\n",
    "assay(spe, \"exprs_0.5\") <- asinh(counts(spe)/0.5)"
   ]
  },
  {
   "cell_type": "code",
   "execution_count": null,
   "id": "b1b4176d-4c25-45e9-bf7f-dec47c89befc",
   "metadata": {},
   "outputs": [],
   "source": []
  },
  {
   "cell_type": "markdown",
   "id": "39a2ceaa-92c9-405f-8d33-5c06c43044ef",
   "metadata": {},
   "source": [
    "# 3.downstream analysis of whole sample"
   ]
  },
  {
   "cell_type": "markdown",
   "id": "d6a21f17-780a-4308-8063-bd72143f7b1b",
   "metadata": {},
   "source": [
    "## 3.1 tsne"
   ]
  },
  {
   "cell_type": "code",
   "execution_count": null,
   "id": "a93a89b3-fb4e-4f09-9704-095282dd5a15",
   "metadata": {},
   "outputs": [],
   "source": [
    "set.seed(220224)\n",
    "spe <- runUMAP(spe, subset_row = rowData(spe)$use_channel, exprs_values = \"exprs_0.5\") \n",
    "spe <- runTSNE(spe, subset_row = rowData(spe)$use_channel, exprs_values = \"exprs_0.5\") \n",
    "\n",
    "mat <- t(assay(spe, \"exprs_0.5\")[rowData(spe)$use_channel,])\n",
    "\n",
    "set.seed(230619)\n",
    "\n",
    "      \n",
    "out1 <- Rphenograph(mat, k = 50)\n",
    "\n",
    "clusters1 <- factor(membership(out1[[2]]))\n",
    "\n",
    "spe$pg_clusters_exprs0.05<- clusters1\n"
   ]
  },
  {
   "cell_type": "code",
   "execution_count": null,
   "id": "d906dd83-309a-4bd6-a69a-39b70b54744d",
   "metadata": {},
   "outputs": [],
   "source": [
    "colorcode <- c(\n",
    "  \"#FF5733\", \"#33FF57\", \"#5733FF\", \"#FF33A5\", \"#33FFF0\",\n",
    "  \"#A533FF\", \"#33A5FF\", \"#FF5733\", \"#FFC300\", \"#DAF7A6\",\n",
    "  \"#C70039\", \"#900C3F\", \"#581845\", \"#1ABC9C\", \"#2ECC71\",\n",
    "  \"#3498DB\", \"#9B59B6\", \"#34495E\", \"#16A085\", \"#27AE60\",\n",
    "  \"#2980B9\", \"#8E44AD\", \"#2C3E50\", \"#F1C40F\", \"#E67E22\",\n",
    "  \"#E74C3C\", \"#ECF0F1\", \"#95A5A6\", \"#F39C12\", \"#D35400\",\n",
    "  \"#C0392B\"\n",
    ")"
   ]
  },
  {
   "cell_type": "code",
   "execution_count": null,
   "id": "fabca4fd-9fcc-4b38-9b25-8257ee024b56",
   "metadata": {},
   "outputs": [],
   "source": [
    "options(repr.plot.width=12, repr.plot.height=10)\n",
    "p=dittoDimPlot(spe, var = \"pg_clusters1\", \n",
    "             reduction.use = \"TSNE\", size =1,\n",
    "             do.label =FALSE) +scale_color_manual(values = metadata(spe)$color_vectors$cluster)\n",
    "    ggtitle(\"Phenograph clusters on TSNE\")\n",
    "ggsave(\n",
    "  \"TSNE_clusters.pdf\",\n",
    "  plot = p,\n",
    "  width = 12,\n",
    "  height = 10,\n",
    "  units = \"in\",\n",
    "  dpi = 300\n",
    ")"
   ]
  },
  {
   "cell_type": "code",
   "execution_count": null,
   "id": "58597c5c-1ffd-465e-b35e-f73dbc32ac19",
   "metadata": {},
   "outputs": [],
   "source": []
  },
  {
   "cell_type": "markdown",
   "id": "d393049e-f567-40b9-b247-75aa51b44dc6",
   "metadata": {},
   "source": [
    "## 3.2 heatmap"
   ]
  },
  {
   "cell_type": "code",
   "execution_count": null,
   "id": "0ee3aadb-24c9-4fd1-ba35-00e8719040d4",
   "metadata": {},
   "outputs": [],
   "source": [
    "library(ComplexHeatmap)\n",
    "library(SingleCellExperiment)\n",
    "library(circlize) "
   ]
  },
  {
   "cell_type": "code",
   "execution_count": null,
   "id": "11946316-edeb-43b7-b70c-9cbf6d8e3087",
   "metadata": {},
   "outputs": [],
   "source": [
    "celltype_mean <- aggregateAcrossCells(as(spe, \"SingleCellExperiment\"),  \n",
    "                     ids = spe$pg_clusters1, \n",
    "                     statistics = \"mean\",\n",
    "                     use.assay.type = \"exprs_0.5\", \n",
    "                     subset.row = rownames(spe)[rowData(spe)$use_channel])\n",
    "heatmap_data <- assay(celltype_mean, \"exprs_0.5\")\n",
    "head(heatmap_data)"
   ]
  },
  {
   "cell_type": "code",
   "execution_count": null,
   "id": "66e3a4d5-a773-453e-ab41-758a380aa332",
   "metadata": {},
   "outputs": [],
   "source": [
    "color_dict <- c(\n",
    "  \"1\" = \"#FF5733\", \n",
    "  \"2\" = \"#33FF57\", \n",
    "  \"3\" = \"#5733FF\", \n",
    "  \"4\" = \"#FF33A5\", \n",
    "  \"5\" = \"#33FFF0\", \n",
    "  \"6\" = \"#A533FF\", \n",
    "  \"7\" = \"#33A5FF\", \n",
    "  \"8\" = \"#FF5733\", \n",
    "  \"9\" = \"#FFC300\", \n",
    "  \"10\" = \"#DAF7A6\", \n",
    "  \"11\" = \"#C70039\", \n",
    "  \"12\" = \"#900C3F\", \n",
    "  \"13\" = \"#581845\", \n",
    "  \"14\" = \"#1ABC9C\", \n",
    "  \"15\" = \"#2ECC71\", \n",
    "  \"16\" = \"#3498DB\", \n",
    "  \"17\" = \"#9B59B6\", \n",
    "  \"18\" = \"#34495E\", \n",
    "  \"19\" = \"#16A085\", \n",
    "  \"20\" = \"#27AE60\", \n",
    "  \"21\" = \"#2980B9\", \n",
    "  \"22\" = \"#8E44AD\", \n",
    "  \"23\" = \"#2C3E50\", \n",
    "  \"24\" = \"#F1C40F\", \n",
    "  \"25\" = \"#E67E22\"\n",
    ")\n",
    "\n",
    "group <- colnames(heatmap_data)\n",
    "\n",
    "\n",
    "col_annot <- HeatmapAnnotation(\n",
    "  Group = group,\n",
    "  col = list(Group = color_dict)\n",
    ")"
   ]
  },
  {
   "cell_type": "code",
   "execution_count": null,
   "id": "b45e5a37-3770-4f71-8d89-3e9dad12ee88",
   "metadata": {},
   "outputs": [],
   "source": [
    "options(repr.plot.width=10, repr.plot.height=10)\n",
    "pdf(\"heatmap_spe_CD45_ComplexHeatmap_zscore_manhattan.pdf\", width = 10, height = 10)\n",
    "z_score_matrix <- t(scale(t(heatmap_data), center = TRUE, scale = TRUE))\n",
    "col_fun <- colorRamp2(c(-2, 0, 2), c(\"blue\", \"white\", \"red\"))\n",
    "Heatmap(z_score_matrix,\n",
    "        name = \"Z-score\",\n",
    "        col = col_fun,\n",
    "        top_annotation = col_annot,\n",
    "        show_row_names = TRUE,\n",
    "        show_column_names = TRUE,\n",
    "        clustering_distance_rows = \"euclidean\",\n",
    "        clustering_distance_columns = \"manhattan\",  #manhattan   euclidean\n",
    "        #clustering_method_rows = FALSE,\n",
    "        clustering_method_columns = \"complete\",\n",
    "        row_title = \"Genes\",\n",
    "        column_title = \"Sample Groups\")\n",
    "dev.off()"
   ]
  },
  {
   "cell_type": "markdown",
   "id": "dd506de4-b558-4c99-8718-3012262e2db4",
   "metadata": {},
   "source": [
    "## 3.3 mapping of cluster"
   ]
  },
  {
   "cell_type": "code",
   "execution_count": null,
   "id": "3512336d-14d3-472e-a0c9-32160efbe402",
   "metadata": {},
   "outputs": [],
   "source": [
    "cluster_mapping <- c(\n",
    "  \"1\" = 1, \"11\" = 1, \"18\" = 1, \"13\" = 1, \"22\" = 1,\"16\" = 1,\n",
    "  \"20\" = 2,\n",
    "  \"7\" = 3,\n",
    "  \"12\" = 4,\n",
    "  \"3\" = 5, \"4\" = 5, \"14\" = 5, \"6\" = 5,\n",
    "  \"17\" = 6,\n",
    "  \"9\" = 7, \"10\" = 7,\n",
    "  \"15\" = 8,\n",
    "  \"2\" = 9,\n",
    "  \"5\" = 10,\n",
    "  \"23\" = 11,\n",
    "  \"21\" = 12,\n",
    "  \"24\" = 13,\n",
    "  \"25\" = 14,\n",
    "  \"8\" = 15, \"19\" = 15\n",
    ")\n",
    "\n",
    "\n",
    "colData(spe)$cell_type <- cluster_mapping[as.character(colData(spe)$pg_clusters1)]\n",
    "spe$cell_type <- as.character(spe$cell_type)"
   ]
  },
  {
   "cell_type": "code",
   "execution_count": null,
   "id": "323282f9-bd77-4139-8b7e-bcf6ea1a9af4",
   "metadata": {},
   "outputs": [],
   "source": [
    "color_mapping <- c(\n",
    "  \"1\"  = \"#F032E6\",  \n",
    "  \"2\"  = \"#FEEC37\",\n",
    "  \"3\"  = \"#3CB44B\", \n",
    "  \"4\"  = \"#E6194B\", \n",
    "  \"5\"  = \"#756bb1\",  \n",
    "  \"6\"  = \"#d9d9d9\",  \n",
    "  \"7\"  = \"#646464\",  \n",
    "  \"8\"  = \"#F58231\",  \n",
    "  \"9\"  = \"#4D4D4D\", \n",
    "  \"10\" = \"#344cb7\", \n",
    "  \"11\" = \"#008080\", \n",
    "  \"12\" = \"#FF1493\",  \n",
    "  \"13\" = \"#00FFFF\",  \n",
    "  \"14\" = \"#AA6E28\",  \n",
    "  \"15\" = \"#7FFF00\"  \n",
    ")"
   ]
  },
  {
   "cell_type": "code",
   "execution_count": null,
   "id": "7e452d92-ac60-47ce-ba04-628e8119cd5e",
   "metadata": {},
   "outputs": [],
   "source": [
    "plotCells(masks,\n",
    "          object = spe, \n",
    "          cell_id = \"ObjectNumber\", \n",
    "          img_id = \"sample_id\",\n",
    "          colour_by = \"cell_type\",\n",
    "          colour = list(cell_type = color_mapping),\n",
    "          missing_colour = \"gray\",\n",
    "         display = \"single\",\n",
    "         scale_bar=NULL,\n",
    "          image_title=NULL,\n",
    "          save_plot = list(filename = \"whole_sample_mapping.png\", scale = 1))"
   ]
  },
  {
   "cell_type": "code",
   "execution_count": null,
   "id": "87866f0e-ffe2-4c8c-a205-7757e1b488e6",
   "metadata": {},
   "outputs": [],
   "source": []
  },
  {
   "cell_type": "markdown",
   "id": "0a654924-d909-4e6f-8d21-da2ba7eb26a6",
   "metadata": {},
   "source": [
    "## 3.4 visulization of follicle type"
   ]
  },
  {
   "cell_type": "code",
   "execution_count": null,
   "id": "333c9bdd-9c01-4119-965c-e70ae43a78c1",
   "metadata": {},
   "outputs": [],
   "source": [
    "a=colData(spe)\n",
    "a=as.data.frame(a)\n",
    "b=spatialCoords(spe)\n",
    "b=as.data.frame(b)\n",
    "a$Pos_X=b$Pos_X\n",
    "a$Pos_Y=b$Pos_Y"
   ]
  },
  {
   "cell_type": "code",
   "execution_count": null,
   "id": "734775b4-81e6-442f-881d-431f12922adb",
   "metadata": {},
   "outputs": [],
   "source": [
    "library(sf)\n",
    "library(dplyr)\n",
    "\n",
    "type2b_1 <- subset(a, sample_id == \"type3b_3\")\n",
    "type2b_1$cell_id=rownames(type2b_1)\n",
    "\n",
    "\n",
    "\n",
    "polygon_wkt <- \"POLYGON ((7 242, 0 992, 699 992, 1000 801, 851 733, 617 708, 241 432, 7 242))\"\n",
    "\n",
    "\n",
    "polygon_sf <- st_as_sfc(polygon_wkt) %>% \n",
    "  st_set_crs(NA)  \n",
    "\n",
    "\n",
    "points_sf <- st_as_sf(type2b_1, \n",
    "                      coords = c(\"Pos_X\", \"Pos_Y\"), \n",
    "                      crs = NA)  \n",
    "\n",
    "\n",
    "type2b_1$inside <- st_intersects(points_sf, polygon_sf, sparse = FALSE)[, 1]\n",
    "\n",
    "\n",
    "result <- type2b_1 %>% \n",
    "  filter(inside == TRUE) %>% \n",
    "  select(-inside) \n",
    "\n",
    "\n",
    "result$cell_id=rownames(result)\n"
   ]
  },
  {
   "cell_type": "code",
   "execution_count": null,
   "id": "b16d406d-264c-4f32-95cb-6eb47801c2aa",
   "metadata": {},
   "outputs": [],
   "source": [
    "library(dplyr)\n",
    "meta <- meta %>%\n",
    "  mutate(\n",
    "    follicle = ifelse(\n",
    "      cell_id %in% result$cell_id & follicle == 1, \n",
    "      \"type3b_4\",                                   \n",
    "      follicle                                      \n",
    "    )\n",
    "  )"
   ]
  },
  {
   "cell_type": "code",
   "execution_count": null,
   "id": "358563df-bd7c-410d-902e-2ac1e55ba4a0",
   "metadata": {},
   "outputs": [],
   "source": [
    "meta <- meta %>%\n",
    "  mutate(\n",
    "    follicle_type = case_when( \n",
    "      follicle == \"1\" ~ \"1\",\n",
    "      follicle == \"CA\" ~ \"CA\",\n",
    "      \n",
    "  \n",
    "      TRUE ~ str_replace(follicle, \"_\\\\d+$\", \"\")  \n",
    "    )\n",
    "  )\n",
    "table(meta$follicle_type)"
   ]
  },
  {
   "cell_type": "code",
   "execution_count": null,
   "id": "e88fc753-b701-4fda-a6e2-7dad3fc17995",
   "metadata": {},
   "outputs": [],
   "source": [
    "spe$follicle=meta$follicle\n",
    "spe$follicle_type=meta$follicle_type"
   ]
  },
  {
   "cell_type": "code",
   "execution_count": null,
   "id": "3b63d8d2-e7ce-4f40-b022-558ee72044eb",
   "metadata": {},
   "outputs": [],
   "source": [
    "color_mapping <- c(\n",
    "  \"1\" = \"gray\",         \n",
    "  \"CA\" = \"green\",        \n",
    "  \"cortex_in\" = \"red\",  \n",
    "  \"cortex_out\" = \"blue\", \n",
    "  \"healthy\" = \"purple\",  \n",
    "  \"type1\" = \"orange\",    \n",
    "  \"type2a\" = \"cyan\",    \n",
    "  \"type2b\" = \"magenta\",  \n",
    "  \"type3b\" = \"yellow\"   \n",
    ")"
   ]
  },
  {
   "cell_type": "code",
   "execution_count": null,
   "id": "dc43c4d4-c71a-4852-9fcd-9aeacd8fd2a1",
   "metadata": {},
   "outputs": [],
   "source": [
    "plotCells(\n",
    "  masks,\n",
    "  object = spe, \n",
    "  cell_id = \"ObjectNumber\", \n",
    "  img_id = \"sample_id\",\n",
    "  colour_by = \"follicle_type\",\n",
    "  colour = list(follicle_type = color_mapping),\n",
    "  missing_colour = \"gray\",  display = \"single\",\n",
    "         scale_bar=NULL,\n",
    "          image_title=NULL,\n",
    "          save_plot = list(filename = \"ROI/ROI.png\", scale = 1))\n"
   ]
  },
  {
   "cell_type": "code",
   "execution_count": null,
   "id": "5d9a4602-7a80-43f9-8067-c61282a10866",
   "metadata": {},
   "outputs": [],
   "source": [
    "##quantification\n",
    "\n",
    "library(ggplot2)\n",
    "library(dplyr)\n",
    "\n",
    "\n",
    "plot_data <- meta_follicle %>%\n",
    "  mutate(\n",
    "    cell_type = factor(cell_type, levels = as.character(1:15)) \n",
    "  ) %>%\n",
    "  group_by(follicle_type, cell_type) %>%\n",
    "  summarise(count = n(), .groups = \"drop\") %>%\n",
    "  group_by(follicle_type) %>%\n",
    "  mutate(percentage = count / sum(count) * 100)\n",
    "\n",
    "\n",
    "color_mapping <- c(\n",
    "  \"1\"  = \"#F032E6\",  \"2\"  = \"#FEEC37\",  \"3\"  = \"#3CB44B\",\n",
    "  \"4\"  = \"#E6194B\",  \"5\"  = \"#756bb1\",  \"6\"  = \"#d9d9d9\",\n",
    "  \"7\"  = \"#646464\",  \"8\"  = \"#F58231\",  \"9\"  = \"#4D4D4D\",\n",
    "  \"10\" = \"#344cb7\",  \"11\" = \"#008080\",  \"12\" = \"#FF1493\",\n",
    "  \"13\" = \"#00FFFF\",  \"14\" = \"#AA6E28\",  \"15\" = \"#7FFF00\"\n",
    ")\n",
    "\n",
    "\n",
    "p <- ggplot(plot_data, aes(x = follicle_type, y = percentage, fill = cell_type)) +\n",
    "  geom_bar(stat = \"identity\", position = \"fill\") +\n",
    "  scale_y_continuous(\n",
    "    labels = scales::percent_format(),\n",
    "    expand = expansion(mult = c(0, 0.05)) \n",
    "  ) +\n",
    "  scale_fill_manual(\n",
    "    values = color_mapping,\n",
    "    name = \"Cell Type\",\n",
    "    drop = FALSE \n",
    "  ) +\n",
    "  labs(\n",
    "    x = \"Follicle Type\",\n",
    "    y = \"Percentage\",\n",
    "    title = \"Cell Type Composition by Follicle Type\"\n",
    "  ) +\n",
    "  theme_minimal(base_size = 14) +  \n",
    "  theme(\n",
    "    axis.text.x = element_text(\n",
    "      angle = 45,\n",
    "      hjust = 1,\n",
    "      face = \"bold\", \n",
    "      color = \"black\"\n",
    "    ),\n",
    "    axis.text.y = element_text(\n",
    "      face = \"bold\", \n",
    "      color = \"black\"\n",
    "    ),\n",
    "    axis.title.x = element_text(\n",
    "      face = \"bold\", \n",
    "      size = 12,\n",
    "      margin = margin(t = 10)\n",
    "    ),\n",
    "    axis.title.y = element_text(\n",
    "      face = \"bold\",\n",
    "      size = 12,\n",
    "      margin = margin(r = 10)\n",
    "    ),\n",
    "    legend.title = element_text(face = \"bold\"),  \n",
    "    plot.title = element_text(\n",
    "      hjust = 0.5,\n",
    "      face = \"bold\",\n",
    "      size = 16\n",
    "    ),\n",
    "    panel.grid.major.x = element_blank(), \n",
    "    panel.grid.major.y = element_blank(),\n",
    "    panel.border = element_blank(),  \n",
    "    axis.line = element_line(size = 1.2, color = \"black\")  \n",
    "      \n",
    "  )\n",
    "\n",
    "\n",
    "ggsave(\n",
    "  filename = \"cell_type_composition.pdf\",\n",
    "  plot = p,\n",
    "  device = \"pdf\",\n",
    "  width = 10,    \n",
    "  height = 8,\n",
    "  units = \"in\",\n",
    "  dpi = 300\n",
    ")\n",
    "print(p)"
   ]
  },
  {
   "cell_type": "code",
   "execution_count": null,
   "id": "e5badef0-3454-4d40-aeb1-55d9b05529a2",
   "metadata": {},
   "outputs": [],
   "source": []
  },
  {
   "cell_type": "markdown",
   "id": "d1c8b29e-8ac6-4302-a9fa-4c097fe3a1a1",
   "metadata": {},
   "source": [
    "# 4.downstream analysis of immune cell"
   ]
  },
  {
   "cell_type": "markdown",
   "id": "aa8c41c1-8cc6-470e-9047-7d48b199f05c",
   "metadata": {},
   "source": [
    "## 4.1 visulization of CD45 positive cell"
   ]
  },
  {
   "cell_type": "code",
   "execution_count": null,
   "id": "2c7769f0-5532-400f-b807-7b40fabe7820",
   "metadata": {},
   "outputs": [],
   "source": [
    "data_counts$CD45_1 <- ifelse(data_counts$CD45 >1.5, 1, 2)"
   ]
  },
  {
   "cell_type": "code",
   "execution_count": null,
   "id": "c1a0c847-7a4f-44ba-aea8-a2e998f66063",
   "metadata": {},
   "outputs": [],
   "source": [
    "# 1. 添加 immune_filter 列，默认值为 2\n",
    "colData(spe)$immune_filter <- 2\n",
    "\n",
    "# 2. 设置条件：CD45_1 == 1 且 pg_clusters1 在指定值中\n",
    "# 定义目标 pg_clusters1 值\n",
    "target_clusters <- c(1, 11, 18, 13, 22, 20, 16)\n",
    "\n",
    "# 根据条件更新 immune_filter\n",
    "spe$immune_filter[colData(spe)$CD45_1 == 1 & \n",
    "                  colData(spe)$pg_clusters1 %in% target_clusters] <- 1"
   ]
  },
  {
   "cell_type": "code",
   "execution_count": null,
   "id": "18138a13-9125-4872-93e4-cd82be0cd649",
   "metadata": {},
   "outputs": [],
   "source": [
    "plotPixels(image =images,\n",
    "           mask =masks,\n",
    "           object = spe, \n",
    "           cell_id = \"ObjectNumber\", \n",
    "           img_id = \"sample_id\",\n",
    "           colour_by =c(\"CD45\"),\n",
    "           outline_by = \"immune_filter\",\n",
    "           colour = list(immune_filter= c(\"1\"=\"#FFFFFF\",\"2\"=\"#45095C\")),\n",
    "            bcg = list(CD45 = c(0, 8, 1.2)),\n",
    "          display = \"single\",\n",
    "           scale_bar=NULL,\n",
    "           image_title=NULL,\n",
    "           image_title=NULL,\n",
    "           thick = TRUE,\n",
    "           save_plot = list(filename = \"Figure_revised/9st/CD45_CD45_1.png\", scale = 3))"
   ]
  },
  {
   "cell_type": "code",
   "execution_count": null,
   "id": "64d0c8f3-1036-421d-bacd-4e3a9ab6f123",
   "metadata": {},
   "outputs": [],
   "source": [
    "spe_cd45_9st=spe[,spe$immune_filter %in% c(\"1\")]"
   ]
  },
  {
   "cell_type": "code",
   "execution_count": null,
   "id": "f4e9e773-8402-4f63-8fc2-06cc8e0fdde2",
   "metadata": {},
   "outputs": [],
   "source": []
  },
  {
   "cell_type": "markdown",
   "id": "e65ee7f9-2531-440c-a596-769c0fae9c51",
   "metadata": {},
   "source": [
    "## 4.2 tsne"
   ]
  },
  {
   "cell_type": "code",
   "execution_count": null,
   "id": "84bbca43-f38c-4b9e-a5cd-04185e0e704e",
   "metadata": {},
   "outputs": [],
   "source": [
    "#alway use\n",
    "genes_of_interest <- c(\"CD45\", \"CD14\",  \"FcεRIα\", \"CD69\", \"CD4\", \"CD8a\",  \"CD7\", \"CD163\", \"CD103\", \"CD127\",\n",
    "                      \"CD68\", \"CD11b\", \"CD11c\", \"CD15\", \"CD161\", \"CD117\", \"CD27\", \"HLA-DR\", \"CD45RA\", \"CD3\", \"CD1c\", \"CD38\")\n",
    "rowData(spe_cd45_9st)$use_channel <- rownames(spe_cd45_9st) %in% genes_of_interest"
   ]
  },
  {
   "cell_type": "code",
   "execution_count": null,
   "id": "4706f53c-1ea3-4080-b4b0-0b753a5b1395",
   "metadata": {},
   "outputs": [],
   "source": [
    "set.seed(230618)\n",
    "spe_cd45_9st <- runUMAP(spe_cd45_9st, subset_row = rowData(spe_cd45_9st)$use_channel, exprs_values = \"exprs_0.5\") \n",
    "spe_cd45_9st <- runTSNE(spe_cd45_9st, subset_row = rowData(spe_cd45_9st)$use_channel, exprs_values = \"exprs_0.5\")"
   ]
  },
  {
   "cell_type": "code",
   "execution_count": null,
   "id": "5aab4ed7-83c6-443e-9bf0-389fb69d0dac",
   "metadata": {},
   "outputs": [],
   "source": [
    "mat <- t(assay(spe_cd45_9st, \"exprs_0.5\")[rowData(spe_cd45_9st)$use_channel,])\n",
    "\n",
    "set.seed(230619)\n",
    "\n",
    "      \n",
    "out2 <- Rphenograph(mat, k = 49)\n",
    "\n",
    "clusters1 <- factor(membership(out2[[2]]))\n",
    "spe_cd45_9st$immune_9st1=clusters1"
   ]
  },
  {
   "cell_type": "code",
   "execution_count": null,
   "id": "1ccc0186-2c65-4ef7-94f1-c84a3f6b5052",
   "metadata": {},
   "outputs": [],
   "source": [
    "spe_cd45_9st$immune_9st<- as.numeric(levels(spe_cd45_9st$immune_9st)[spe_cd45_9st$immune_9st]) - 1\n",
    "spe_cd45_9st$immune_9st <- factor(spe_cd45_9st$immune_9st,\n",
    "                                  levels = as.character(0:12))"
   ]
  },
  {
   "cell_type": "code",
   "execution_count": null,
   "id": "4028b8c8-8547-45f0-97da-0c18b37287fa",
   "metadata": {},
   "outputs": [],
   "source": [
    "library(RColorBrewer)\n",
    "\n",
    "colorcode <- c(\n",
    "  \"#C1A029\",\n",
    "  \"#ff002a\",\n",
    "  \"#009203\",\n",
    "  \"#FEEC37\",\n",
    "  \"#4fa9ff\",\n",
    "  \"#00FFFF\",\n",
    "  \"#E6BEFF\",\n",
    "  \"#0000FF\",\n",
    "  \"#FF6347\",\n",
    "  \"#FF1493\",\n",
    "  \"#E71BE6\",\n",
    "  \"#565DFD\",\n",
    "  \"#A2F852\"\n",
    ")\n",
    "\n",
    "cluster<- setNames(colorcode, unique(spe_cd45_9st$immune_9st))\n",
    "color_vectors <- list()\n",
    "color_vectors$cluster <- cluster\n",
    "metadata(spe_cd45_9st)$color_vectors <- color_vectors"
   ]
  },
  {
   "cell_type": "code",
   "execution_count": null,
   "id": "52b02296-eb71-4d48-beb0-e9e232aa2c4a",
   "metadata": {},
   "outputs": [],
   "source": [
    "options(repr.plot.width=12, repr.plot.height=10)\n",
    "p=dittoDimPlot(spe_cd45_9st, var = \"immune_9st\", \n",
    "             reduction.use = \"TSNE\", size = 4,\n",
    "             do.label = FALSE) +scale_color_manual(values = metadata(spe_cd45_9st)$color_vectors$cluster)\n",
    "ggsave(\n",
    "  \"Figure_revised/9st/TSNE_clusters_immune.pdf\",\n",
    "  plot = p,\n",
    "  width = 11,\n",
    "  height = 10,\n",
    "  units = \"in\",\n",
    "  dpi = 600\n",
    ")"
   ]
  },
  {
   "cell_type": "code",
   "execution_count": null,
   "id": "eb3dfb37-cc25-4af9-bab5-5768c436a4b7",
   "metadata": {},
   "outputs": [],
   "source": []
  },
  {
   "cell_type": "code",
   "execution_count": null,
   "id": "d4858713-f439-460b-a360-8b491733e42a",
   "metadata": {},
   "outputs": [],
   "source": [
    "\n",
    "genes <- c(\"CD3\", \"CD161\",  \"CD163\", \"CD1c\")\n",
    "\n",
    "\n",
    "for (gene in genes) {\n",
    "  \n",
    "  p <- dittoDimPlot(spe_cd45_9st, \n",
    "                     var = gene, \n",
    "                     assay = \"exprs_0.5\",\n",
    "                     reduction.use = \"TSNE\", \n",
    "                     size =4, \n",
    "                     colors = viridis(100), \n",
    "                     do.label = TRUE) +\n",
    "       scale_color_viridis()\n",
    "\n",
    "\n",
    "  pdf_filename <- paste0(gene, \"_TSNE_plot.pdf\")  \n",
    "\n",
    "  ggsave(pdf_filename, plot = p, width = 11, height = 10, units = \"in\", dpi = 300)\n",
    " \n",
    "}\n"
   ]
  },
  {
   "cell_type": "code",
   "execution_count": null,
   "id": "2588f616-25bd-4290-a6d4-d72749480cfc",
   "metadata": {},
   "outputs": [],
   "source": []
  },
  {
   "cell_type": "markdown",
   "id": "6c32aed5-7d85-4457-9420-c9e526b68d6f",
   "metadata": {},
   "source": [
    "## 4.3 heatmap"
   ]
  },
  {
   "cell_type": "code",
   "execution_count": null,
   "id": "ffc714cc-7cf4-4825-ac14-20c3ae6912f6",
   "metadata": {},
   "outputs": [],
   "source": [
    "celltype_mean <- aggregateAcrossCells(as(spe_cd45_9st, \"SingleCellExperiment\"),  \n",
    "                     ids = spe_cd45_9st$immune_9st, \n",
    "                     statistics = \"mean\",\n",
    "                     use.assay.type = \"exprs_0.5\", \n",
    "                     subset.row = rownames(spe_cd45_9st)[rowData(spe_cd45_9st)$use_channel])\n",
    "heatmap_data <- assay(celltype_mean, \"exprs_0.5\")\n",
    "head(heatmap_data)"
   ]
  },
  {
   "cell_type": "code",
   "execution_count": null,
   "id": "9c790901-1d68-4d65-b9b5-993cd8b85522",
   "metadata": {},
   "outputs": [],
   "source": [
    "color_dict <- c(\n",
    "\"0\" = \"#C1A029\",\n",
    "  \"1\" = \"#ff002a\",\n",
    "  \"2\" = \"#00FFFF\",\n",
    "  \"3\" = \"#FEEC37\",\n",
    "  \"4\" = \"#4fa9ff\",\n",
    "  \"5\" = \"#009203\",\n",
    "  \"6\" = \"#E6BEFF\",\n",
    "  \"7\" = \"#0000FF\",\n",
    "  \"8\" = \"#FF6347\",\n",
    "  \"9\" = \"#FF1493\",\n",
    "  \"10\" = \"#E71BE6\",\n",
    "  \"11\" = \"#565DFD\",\n",
    "  \"12\" = \"#A2F852\",\n",
    "  \"13\"=\"#2b2b2b\"\n",
    ")\n",
    "\n",
    "group <- colnames(heatmap_data)\n",
    "\n",
    "\n",
    "col_annot <- HeatmapAnnotation(\n",
    "  Group = group,\n",
    "  col = list(Group = color_dict)\n",
    ")"
   ]
  },
  {
   "cell_type": "code",
   "execution_count": null,
   "id": "044c7346-bc6d-4095-9754-bdf5d5ea4829",
   "metadata": {},
   "outputs": [],
   "source": [
    "options(repr.plot.width=8, repr.plot.height=10)\n",
    "pdf(\"heatmap_spe_CD45_ComplexHeatmap_zscore_manhattan.pdf\", width = 10, height = 10)\n",
    "z_score_matrix <- t(scale(t(heatmap_data), center = TRUE, scale = TRUE))\n",
    "col_fun <- colorRamp2(c(-2, 0, 2), c(\"blue\", \"white\", \"red\"))\n",
    "Heatmap(z_score_matrix,\n",
    "        name = \"Z-score\",\n",
    "        col = col_fun,\n",
    "        top_annotation = col_annot,\n",
    "        show_row_names = TRUE,\n",
    "        show_column_names = TRUE,\n",
    "        clustering_distance_rows = \"euclidean\",\n",
    "        clustering_distance_columns = \"pearson\",  #manhattan   euclidean\n",
    "        #clustering_method_rows = FALSE,\n",
    "        clustering_method_columns = \"complete\",\n",
    "        row_title = \"Genes\",\n",
    "        column_title = \"Sample Groups\")\n",
    "dev.off()"
   ]
  },
  {
   "cell_type": "code",
   "execution_count": null,
   "id": "cbd4afbc-9824-4e5f-bcbc-3cd5c00815a0",
   "metadata": {},
   "outputs": [],
   "source": []
  },
  {
   "cell_type": "markdown",
   "id": "3f002d27-c3ac-4ebf-93d2-5caf959a714d",
   "metadata": {},
   "source": [
    "## 4.4 quantification"
   ]
  },
  {
   "cell_type": "code",
   "execution_count": null,
   "id": "b0ff87a1-74be-4220-b40a-6b7352b0ad2f",
   "metadata": {},
   "outputs": [],
   "source": [
    "meta_follicle<- meta%>%filter(follicle_type_updata1 != \"1\")\n",
    "\n",
    "\n",
    "percentage_data <- meta_follicle_immune %>%\n",
    "  group_by(follicle_type_updata1, immune_9st1) %>%\n",
    "  summarise(count = n(), .groups = \"drop\") %>%\n",
    "  group_by(follicle_type_updata1) %>%\n",
    "  mutate(percentage = (count / sum(count)) * 100) %>%\n",
    "  ungroup() %>%\n",
    "  mutate(\n",
    "    immune_9st1 = factor(immune_9st1, levels = new_levels), \n",
    "    follicle_type_updata1 = factor(follicle_type_updata1, levels = c(\"healthy\", \"type1\", \"type2\", \"type3\", \"CA\",\"CAlate\")) \n",
    "  )"
   ]
  },
  {
   "cell_type": "code",
   "execution_count": null,
   "id": "4218853e-6e29-4cb6-9d27-89a48e80bb95",
   "metadata": {},
   "outputs": [],
   "source": [
    "library(ggplot2)\n",
    "library(dplyr)\n",
    "\n",
    "\n",
    "summary_df <- result_df %>%\n",
    "  group_by(follicle_type_updata1) %>%\n",
    "  summarise(\n",
    "    mean_percent = mean(percent, na.rm = TRUE),  \n",
    "    se = sd(percent, na.rm = TRUE) / sqrt(n())   \n",
    "  )  %>%\n",
    "mutate(\n",
    "     follicle_type_updata1= factor(follicle_type_updata1, levels = c(\"healthy\", \"type1\", \"type2\", \"type3\", \"CA\", \"CAlate\")) \n",
    "    )\n",
    "\n",
    "\n",
    "p=ggplot(summary_df, aes(x = follicle_type_updata1, y = mean_percent)) +\n",
    "  geom_bar(stat = \"identity\", fill = \"#E71BE6\", width = 0.8) +  \n",
    "  geom_errorbar(aes(ymin = mean_percent - se, ymax = mean_percent + se), \n",
    "                width = 0.2, color = \"black\") + \n",
    "  scale_y_continuous(expand = c(0, 0)) +  \n",
    "  labs(title = \"Percentage of ROI Groups Across Follicle Types\",\n",
    "       x = \"Follicle Type\",\n",
    "       y = \"Percentage (%)\") +\n",
    "  theme_minimal() +\n",
    "  theme(\n",
    "   axis.text.x = element_text(angle = 90,size = 20, face = \"bold\", color = \"black\"), \n",
    "    axis.text.y = element_text(size = 20, face = \"bold\", color = \"black\"),  \n",
    "    axis.title.x = element_text(face = \"bold\", size = 20, margin = margin(t = 10)),\n",
    "    axis.title.y = element_text(face = \"bold\", size = 20, margin = margin(r = 10)),\n",
    "    plot.title = element_text(hjust = 0.5, face = \"bold\", size = 15),\n",
    "   panel.grid.major = element_blank(), \n",
    "    panel.grid.minor = element_blank(),  \n",
    "    panel.grid.major.y = element_blank(),\n",
    "    panel.border = element_blank(),\n",
    "    axis.line = element_line(size = 1, color = \"black\")\n",
    "  )\n",
    "p\n",
    "ggsave(\"Figure_revised/9st/percetange_immune_follicle_type_merge.pdf\", plot = p, width = 5, height = 10)"
   ]
  },
  {
   "cell_type": "code",
   "execution_count": null,
   "id": "e082bb31-0766-4826-b054-86f165b57a0d",
   "metadata": {},
   "outputs": [],
   "source": []
  },
  {
   "cell_type": "code",
   "execution_count": null,
   "id": "b85c2a3d-8bbe-40f8-bba8-beb653da5d38",
   "metadata": {},
   "outputs": [],
   "source": [
    "meta_follicle<- meta%>%filter(follicle_type_updata1 != \"1\")\n",
    "meta_follicle_immune<- meta_follicle %>%filter(immune_9st1 != \"30\")\n",
    "new_levels <- as.character(c(3, 7, 11, 10, 5, 2, 6, 4, 0, 1, 9, 12, 8))\n",
    "\n",
    "percentage_data <- meta_follicle_immune %>%\n",
    "  group_by(follicle_type_updata1, immune_9st1) %>%\n",
    "  summarise(count = n(), .groups = \"drop\") %>%\n",
    "  group_by(follicle_type_updata1) %>%\n",
    "  mutate(percentage = (count / sum(count)) * 100) %>%\n",
    "  ungroup() %>%\n",
    "  mutate(\n",
    "    immune_9st1 = factor(immune_9st1, levels = new_levels),  \n",
    "    follicle_type_updata1 = factor(follicle_type_updata1, levels = c(\"healthy\", \"type1\", \"type2\", \"type3\", \"CA\",\"CAlate\"))\n",
    "  )"
   ]
  },
  {
   "cell_type": "code",
   "execution_count": null,
   "id": "9d6a28fc-a2a1-4be3-af36-c2815c3b9435",
   "metadata": {},
   "outputs": [],
   "source": [
    "options(repr.plot.width=10, repr.plot.height=10)\n",
    "\n",
    "\n",
    "p=ggplot(percentage_data, aes(x = follicle_merge, y = percentage, fill =immune_9st)) +\n",
    "  geom_bar(stat = \"identity\", position = \"stack\") +\n",
    "  scale_fill_manual(values = color_dict) +\n",
    "  labs(\n",
    "    title = \"Percentage of leiden_1.5_updata in ROI\",\n",
    "    x = \"ROI\",\n",
    "    y = \"Percentage (%)\",\n",
    "    fill = \"Leiden 1.5\"\n",
    "  ) +\n",
    "  theme_minimal() +\n",
    "  theme(\n",
    "    axis.title = element_text(size = 20, face = \"bold\",color = \"black\"), \n",
    "    axis.text.x = element_text(angle = 90,size = 20, face = \"bold\", color = \"black\"),  \n",
    "    axis.text.y = element_text(size = 20, face = \"bold\", color = \"black\"),  \n",
    "    axis.line = element_line(color = \"black\", size = 0.8), \n",
    "    panel.grid = element_blank() ）\n",
    "  )\n",
    "p\n",
    "ggsave(\"figure_revised_9st/immune_follicletype_percentage_heatmap_order.pdf\", plot = p, width = 10, height = 10"
   ]
  },
  {
   "cell_type": "code",
   "execution_count": null,
   "id": "f3ad9d3f-8462-4b36-9bfd-edf5bf95f42d",
   "metadata": {},
   "outputs": [],
   "source": []
  },
  {
   "cell_type": "markdown",
   "id": "e0ac254f-6aff-4b69-8859-a5b1ad9e17cd",
   "metadata": {},
   "source": [
    "## 4.5 mapping of cell cluster"
   ]
  },
  {
   "cell_type": "code",
   "execution_count": null,
   "id": "63e3a39e-037a-4f33-afee-4f8d99a2465c",
   "metadata": {},
   "outputs": [],
   "source": [
    "color_mapping <- c(\n",
    "  \"1\" = \"#C1A029\",\n",
    "  \"2\" = \"#ff002a\",\n",
    "  \"3\" = \"#009203\",\n",
    "  \"4\" = \"#FEEC37\",\n",
    "  \"5\" = \"#4fa9ff\",\n",
    "  \"6\" = \"#00FFFF\",\n",
    "  \"7\" = \"#E6BEFF\",\n",
    "  \"8\" = \"#0000FF\",\n",
    "  \"9\" = \"#FF6347\",\n",
    "  \"10\" = \"#FF1493\",\n",
    "  \"11\" = \"#E71BE6\",\n",
    "  \"12\" = \"#565DFD\",\n",
    "  \"13\" = \"#A2F852\",\n",
    "  \"30\" = \"#2b2b2b\"\n",
    ")"
   ]
  },
  {
   "cell_type": "code",
   "execution_count": null,
   "id": "cf672d99-ef99-4119-96d2-ed88325034be",
   "metadata": {},
   "outputs": [],
   "source": [
    "options(repr.plot.width=10, repr.plot.height=10)\n",
    "\n",
    "plotCells(masks,\n",
    "          object = spe, \n",
    "          cell_id = \"ObjectNumber\", \n",
    "          img_id = \"sample_id\",\n",
    "          colour_by = \"immune_9st\",\n",
    "          colour = list(immune_9st = color_mapping),\n",
    "           missing_colour = \"#2b2b2b\",\n",
    "           display = \"single\",\n",
    "           scale_bar=NULL,\n",
    "          image_title=NULL,\n",
    "          save_plot = list(filename = \"Figure_revised/9st/mapping for immune/whole_sample_immune.png\", scale = 3))"
   ]
  },
  {
   "cell_type": "code",
   "execution_count": null,
   "id": "7aef1d84-6c39-4951-bcd3-d54c1d82d3b8",
   "metadata": {},
   "outputs": [],
   "source": [
    "plotPixels(image =images,\n",
    "           mask =masks,\n",
    "           object = spe, \n",
    "           cell_id = \"ObjectNumber\", \n",
    "           img_id = \"sample_id\",\n",
    "           colour_by =c(\"CD163\"),\n",
    "           outline_by = \"cl8\",\n",
    "           colour = list(cl8= c(\"1\"=\"#FFFFFF\",\"2\"=\"#45095C\")),\n",
    "            bcg = list(CD163 = c(0, 15, 1)),\n",
    "          display = \"single\",\n",
    "           scale_bar=NULL,\n",
    "           image_title=NULL,\n",
    "           image_title=NULL,\n",
    "           thick = TRUE,\n",
    "           save_plot = list(filename = \"Figure_revised/9st/CD163_cl8.png\", scale = 2))"
   ]
  },
  {
   "cell_type": "code",
   "execution_count": null,
   "id": "27327382-5325-4681-a115-18dbc8b41d7a",
   "metadata": {},
   "outputs": [],
   "source": []
  },
  {
   "cell_type": "code",
   "execution_count": null,
   "id": "3e51e870-2cdd-49d9-bfd8-874971595721",
   "metadata": {},
   "outputs": [],
   "source": []
  },
  {
   "cell_type": "code",
   "execution_count": null,
   "id": "50f27ea7-6df6-4e9a-bc36-d5b9c4b12cf6",
   "metadata": {},
   "outputs": [],
   "source": []
  },
  {
   "cell_type": "code",
   "execution_count": null,
   "id": "9680a7cf-83f3-4a0d-89a2-8f03bccef765",
   "metadata": {},
   "outputs": [],
   "source": []
  },
  {
   "cell_type": "code",
   "execution_count": null,
   "id": "bdc3ad0f-4836-4249-bba3-3a706ba36f8b",
   "metadata": {},
   "outputs": [],
   "source": []
  }
 ],
 "metadata": {
  "kernelspec": {
   "display_name": "R",
   "language": "R",
   "name": "ir"
  },
  "language_info": {
   "codemirror_mode": "r",
   "file_extension": ".r",
   "mimetype": "text/x-r-source",
   "name": "R",
   "pygments_lexer": "r",
   "version": "4.3.1"
  }
 },
 "nbformat": 4,
 "nbformat_minor": 5
}
